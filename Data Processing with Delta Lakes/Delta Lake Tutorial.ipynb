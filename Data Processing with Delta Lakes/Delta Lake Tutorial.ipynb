{
 "cells": [
  {
   "cell_type": "markdown",
   "metadata": {
    "application/vnd.databricks.v1+cell": {
     "cellMetadata": {
      "byteLimit": 2048000,
      "rowLimit": 10000
     },
     "inputWidgets": {},
     "nuid": "523abd60-9eaa-433b-b56d-a99a5c121a24",
     "showTitle": false,
     "title": ""
    }
   },
   "source": [
    "# Delta Lake: A Brief Introduction\n",
    "\n",
    "All code and descriptions below are written by Zoya Shafique, unless where noted.\n",
    "\n",
    "## <img src = 'https://www.svgrepo.com/show/176852/pin-signs.svg' style=\"height: 50px; margin: 5px; padding: 5px\"/> Overview\n",
    "---\n",
    "\n",
    "In this tutorial, you'll learn more about Delta Lake tables, specifically how metadata is handled and how the Delta Lake platform performs ACID transactions. It is this metadata handling and ACID compliance which marks Delta Lake as a Lakehouse infrastructure as opposed to a data lake (even though the name Delta Lake is somewhat misleading).\n",
    "\n",
    "By the end of this tutorial, you'll be able to:\n",
    "\n",
    "* Understand how to read the transaction log of a Delta table. \n",
    "* Understand what separates a Data Lakehouse from a Data Lake. \n",
    "\n",
    "## <img src = 'https://www.svgrepo.com/show/176852/pin-signs.svg' style=\"height: 50px; margin: 5px; padding: 5px\"/> Before you begin\n",
    "---\n",
    "Before you start the tutorial, you should:\n",
    "\n",
    "* Create a compute resource. For information on how to initialize your compute, plese <a href=\"https://github.com/zoyashaf/DataLakehouses101/blob/21011a4ffd7e4eb7f045f393720a428b940a3b3b/docs/create_compute.pdf\" target=\"_blank\">check here</a>.\n",
    "\n",
    "#### Additional Resources: \n",
    "\n",
    "* Go through the <a href=\"https://github.com/zoyashaf/DataLakehouses101/blob/4c4224e3f553ba00aebbde3004808f40bafb45ad/Data%20Processing%20with%20Delta%20Lakes/Data%20Ingestion%20Cleaning%20and%20Exploration.ipynb\" target=\"_blank\">Data Cleaning notebook</a> to see how Delta Tables can be used in a data processing pipelines\n",
    "\n",
    "* Check out the <a href=\"https://github.com/zoyashaf/DataLakehouses101/blob/4c4224e3f553ba00aebbde3004808f40bafb45ad/docs/Delta%20Lake%20Tables.pdf\" target=\"_blank\">Delta Lake Tables docs</a> for a snapshot of a Delta Table. \n",
    " \n"
   ]
  },
  {
   "cell_type": "markdown",
   "metadata": {
    "application/vnd.databricks.v1+cell": {
     "cellMetadata": {},
     "inputWidgets": {},
     "nuid": "25d6bce9-b898-469b-8b10-d4123567a669",
     "showTitle": false,
     "title": ""
    }
   },
   "source": [
    "## <img src='https://www.svgrepo.com/show/229520/lake.svg' style=\"height: 80px; margin: 5px; padding: 5px\"/>  The Delta Lake\n",
    "\n",
    "A traditional data lake is a centralized repository used for storing large amounts of data in a variety of formats. Data lakes can store structured and unstructured data in a very cost effective manner. However, data lakes lack the organization and structure to maintain consistent, high quality data while allowing multiple users to simultaneously interact with the data. \n",
    "\n",
    "This is where Delta Lake comes in. Delta Lake is a data lakehouse, or a data management system that adds structure and organization on top of a traditional data lake. The Delta Lake adds two main components on top of a data lake, which make it much more efficient and effective in practice:  \n",
    "\n",
    "* Metadata storage and tracking \n",
    "* ACID transactions. \n",
    "\n",
    "In this notebook, we will walk through both aspects of a Delta Lake and discuss how they are implemented. \n",
    "\n"
   ]
  },
  {
   "cell_type": "code",
   "execution_count": 0,
   "metadata": {
    "application/vnd.databricks.v1+cell": {
     "cellMetadata": {
      "byteLimit": 2048000,
      "rowLimit": 10000
     },
     "inputWidgets": {},
     "nuid": "3ef938b9-b8b5-4c07-8d58-d5f92b0946c0",
     "showTitle": false,
     "title": ""
    }
   },
   "outputs": [],
   "source": [
    "## We first need to create our Spark session \n",
    "from pyspark.sql import SparkSession\n",
    "spark = SparkSession.builder.getOrCreate() "
   ]
  },
  {
   "cell_type": "markdown",
   "metadata": {
    "application/vnd.databricks.v1+cell": {
     "cellMetadata": {},
     "inputWidgets": {},
     "nuid": "f7c61cdc-de6f-4fdd-967c-0b76cc20eaa5",
     "showTitle": false,
     "title": ""
    }
   },
   "source": [
    "### <img src='https://www.svgrepo.com/show/122877/presentation.svg' style=\"height: 65px; margin: 5px; padding: 5px\"/> Loading Data\n",
    "---\n",
    "Delta tables can be created multiple ways in Databricks, here we walk through two methods in PySpark."
   ]
  },
  {
   "cell_type": "code",
   "execution_count": 0,
   "metadata": {
    "application/vnd.databricks.v1+cell": {
     "cellMetadata": {
      "byteLimit": 2048000,
      "rowLimit": 10000
     },
     "inputWidgets": {},
     "nuid": "0d7ce6be-bd47-44b3-90ac-ed9e46c6178c",
     "showTitle": false,
     "title": ""
    }
   },
   "outputs": [],
   "source": [
    "## Loading data from source file \n",
    "file_path = \"dbfs:/FileStore/shared_uploads/zshafiq001@citymail.cuny.edu/car_details_v4_edited-1.csv\" \n",
    "car_data = spark.read.format(\"csv\").option(\"header\", \"true\").load(file_path)\n"
   ]
  },
  {
   "cell_type": "code",
   "execution_count": 0,
   "metadata": {
    "application/vnd.databricks.v1+cell": {
     "cellMetadata": {
      "byteLimit": 2048000,
      "rowLimit": 10000
     },
     "inputWidgets": {},
     "nuid": "4cd435c3-5ff9-472a-8165-95a0809f5691",
     "showTitle": false,
     "title": ""
    }
   },
   "outputs": [],
   "source": [
    "# We can save our DataFrame as a Delta Table by specifying the format as \"delta\". The data will be saved in our tmp directory with its current schema\n",
    "\n",
    "save_path = 'dbfs:/tmp/car_data/'\n",
    "car_data.write.format(\"delta\").mode(\"overwrite\").save(save_path)\n"
   ]
  },
  {
   "cell_type": "markdown",
   "metadata": {
    "application/vnd.databricks.v1+cell": {
     "cellMetadata": {},
     "inputWidgets": {},
     "nuid": "ff818178-2773-40f0-b901-eed9eb99957f",
     "showTitle": false,
     "title": ""
    }
   },
   "source": [
    "\n",
    "The above command creates a directory in our dbfs/tmp folder called car_data. This directory contains two files:\n",
    "\n",
    "* A folder called **`_delta_log `**\n",
    "* A **`part_XXXXXX.json`** file \n",
    "\n",
    "The **`_delta_log `** directory contains the transaction log tables for our file. The **` part_XXXXX.json `** file stores our data. Note, we can save our data in partitions. If we had denoted more than one partition, we would have had multiple **` part_XXXXX.json `** files in our folder, one representing each partition. \n",
    "\n",
    "<img src='https://github.com/zoyashaf/DataLakehouses101/blob/main/figures/tmp_car_data.PNG?raw=true' style=\"height: 200px; margin: 5px; padding: 5px\"/> \n",
    "\n",
    "\n",
    "Another way to create Delta Tables is by using the **` .saveAsTable() `**  command directly (as done in the Data Cleaning notebook). Unlike the command in the first cell,  **` .saveAsTable() `**  registers the table in the metastore. Simply, instead of saving the delta table as a file in our file storage, the table lives in our \"Database Tables\" from where we can access it and view related metadata. \n",
    "\n",
    "Explicitly specifying the delta format and saving the table as a file in the DBFS is useful for when we want to reuse the data later. The  **` .saveAsTable() `** command allows us to not only reuse the data later but also view the related metadata in a user friendly interface. More information about this interface can be found in our  <a href=\"https://github.com/zoyashaf/DataLakehouses101/blob/4c4224e3f553ba00aebbde3004808f40bafb45ad/docs/Delta%20Lake%20Tables.pdf\" target=\"_blank\">Delta Tables docs.</a>\n",
    "\n",
    "<img src='https://github.com/zoyashaf/DataLakehouses101/blob/main/figures/database_car_data.PNG?raw=true' style=\"height: 200px; margin: 5px; padding: 5px\"/> "
   ]
  },
  {
   "cell_type": "code",
   "execution_count": 0,
   "metadata": {
    "application/vnd.databricks.v1+cell": {
     "cellMetadata": {
      "byteLimit": 2048000,
      "rowLimit": 10000
     },
     "inputWidgets": {},
     "nuid": "005b08e5-bf1c-4dc3-91cc-0516e40bef31",
     "showTitle": false,
     "title": ""
    }
   },
   "outputs": [],
   "source": [
    "table_name = \"car_data_table\"\n",
    "car_data.write.saveAsTable(table_name)"
   ]
  },
  {
   "cell_type": "markdown",
   "metadata": {
    "application/vnd.databricks.v1+cell": {
     "cellMetadata": {},
     "inputWidgets": {},
     "nuid": "d03071a7-50d5-47df-825b-0c5e2b11bc09",
     "showTitle": false,
     "title": ""
    }
   },
   "source": [
    "### <img src='https://www.svgrepo.com/show/373282/log-opened.svg' style=\"height: 65px; margin: 5px; padding: 5px\"/>   Transaction logs and ACID Complaiance\n",
    "---\n",
    "Now that we understand how to create Delta Tables, lets walk through what sets Delta Tables apart from traditional data lakes. It is important to remember that although Databricks has termed their data engine Delta Lake, it is a data lakehouse rather than a data lake. \n",
    "\n",
    "It is also important to note that as data management infrastructures evolve, the lines between different structures blur. In this case, when we refer to 'traditional data lakes', we are referring to the management system which stores vast amounts of data, structured or unstructured, but does not have ACID-complaint transactions. \n",
    "\n",
    "In the case of the Delta Lake engine, the transaction logs created with every table are used to ensure ACID compliancy and that the version of data seen by the user is the <b>_single source of truth_</b>. The transaction logs keep a record of all the changes made to the Delta table. When a user performs an operation on the Delta table, Spark uses the transaction log to see what new transactions have occurred since the last operation and updates the user's table. Protocols for ensuring that multiple users can work on the data without any conflicts are in place to ensure seemless and consistent updates of the data. \n"
   ]
  },
  {
   "cell_type": "code",
   "execution_count": 0,
   "metadata": {
    "application/vnd.databricks.v1+cell": {
     "cellMetadata": {
      "byteLimit": 2048000,
      "rowLimit": 10000
     },
     "inputWidgets": {},
     "nuid": "ebaaf4ef-7a4d-42c5-ab35-ea4c72347775",
     "showTitle": false,
     "title": ""
    }
   },
   "outputs": [
    {
     "output_type": "display_data",
     "data": {
      "text/html": [
       "<style scoped>\n",
       "  .table-result-container {\n",
       "    max-height: 300px;\n",
       "    overflow: auto;\n",
       "  }\n",
       "  table, th, td {\n",
       "    border: 1px solid black;\n",
       "    border-collapse: collapse;\n",
       "  }\n",
       "  th, td {\n",
       "    padding: 5px;\n",
       "  }\n",
       "  th {\n",
       "    text-align: left;\n",
       "  }\n",
       "</style><div class='table-result-container'><table class='table-result'><thead style='background-color: white'><tr><th>path</th><th>name</th><th>size</th><th>modificationTime</th></tr></thead><tbody><tr><td>dbfs:/tmp/car_data/_delta_log/</td><td>_delta_log/</td><td>0</td><td>0</td></tr><tr><td>dbfs:/tmp/car_data/part-00000-f3095cbe-3ac3-45e7-99a0-9eadeec303cd-c000.snappy.parquet</td><td>part-00000-f3095cbe-3ac3-45e7-99a0-9eadeec303cd-c000.snappy.parquet</td><td>69682</td><td>1716240669000</td></tr></tbody></table></div>"
      ]
     },
     "metadata": {
      "application/vnd.databricks.v1+output": {
       "addedWidgets": {},
       "aggData": [],
       "aggError": "",
       "aggOverflow": false,
       "aggSchema": [],
       "aggSeriesLimitReached": false,
       "aggType": "",
       "arguments": {},
       "columnCustomDisplayInfos": {},
       "data": [
        [
         "dbfs:/tmp/car_data/_delta_log/",
         "_delta_log/",
         0,
         0
        ],
        [
         "dbfs:/tmp/car_data/part-00000-f3095cbe-3ac3-45e7-99a0-9eadeec303cd-c000.snappy.parquet",
         "part-00000-f3095cbe-3ac3-45e7-99a0-9eadeec303cd-c000.snappy.parquet",
         69682,
         1716240669000
        ]
       ],
       "datasetInfos": [],
       "dbfsResultPath": null,
       "isJsonSchema": true,
       "metadata": {},
       "overflow": false,
       "plotOptions": {
        "customPlotOptions": {},
        "displayType": "table",
        "pivotAggregation": null,
        "pivotColumns": null,
        "xColumns": null,
        "yColumns": null
       },
       "removedWidgets": [],
       "schema": [
        {
         "metadata": "{}",
         "name": "path",
         "type": "\"string\""
        },
        {
         "metadata": "{}",
         "name": "name",
         "type": "\"string\""
        },
        {
         "metadata": "{}",
         "name": "size",
         "type": "\"long\""
        },
        {
         "metadata": "{}",
         "name": "modificationTime",
         "type": "\"long\""
        }
       ],
       "type": "table"
      }
     },
     "output_type": "display_data"
    }
   ],
   "source": [
    "## We can view the files in our directory with the following commands and confirm that our table has saved as expected \n",
    "display(dbutils.fs.ls(save_path))"
   ]
  },
  {
   "cell_type": "code",
   "execution_count": 0,
   "metadata": {
    "application/vnd.databricks.v1+cell": {
     "cellMetadata": {
      "byteLimit": 2048000,
      "rowLimit": 10000
     },
     "inputWidgets": {},
     "nuid": "fe81d683-84d5-4761-bbd2-dde4eeafc736",
     "showTitle": false,
     "title": ""
    }
   },
   "outputs": [
    {
     "output_type": "display_data",
     "data": {
      "text/html": [
       "<style scoped>\n",
       "  .table-result-container {\n",
       "    max-height: 300px;\n",
       "    overflow: auto;\n",
       "  }\n",
       "  table, th, td {\n",
       "    border: 1px solid black;\n",
       "    border-collapse: collapse;\n",
       "  }\n",
       "  th, td {\n",
       "    padding: 5px;\n",
       "  }\n",
       "  th {\n",
       "    text-align: left;\n",
       "  }\n",
       "</style><div class='table-result-container'><table class='table-result'><thead style='background-color: white'><tr><th>path</th><th>name</th><th>size</th><th>modificationTime</th></tr></thead><tbody><tr><td>dbfs:/tmp/car_data/_delta_log/.s3-optimization-0</td><td>.s3-optimization-0</td><td>0</td><td>1716240675000</td></tr><tr><td>dbfs:/tmp/car_data/_delta_log/.s3-optimization-1</td><td>.s3-optimization-1</td><td>0</td><td>1716240675000</td></tr><tr><td>dbfs:/tmp/car_data/_delta_log/.s3-optimization-2</td><td>.s3-optimization-2</td><td>0</td><td>1716240675000</td></tr><tr><td>dbfs:/tmp/car_data/_delta_log/00000000000000000000.crc</td><td>00000000000000000000.crc</td><td>5127</td><td>1716240689000</td></tr><tr><td>dbfs:/tmp/car_data/_delta_log/00000000000000000000.json</td><td>00000000000000000000.json</td><td>4127</td><td>1716240675000</td></tr></tbody></table></div>"
      ]
     },
     "metadata": {
      "application/vnd.databricks.v1+output": {
       "addedWidgets": {},
       "aggData": [],
       "aggError": "",
       "aggOverflow": false,
       "aggSchema": [],
       "aggSeriesLimitReached": false,
       "aggType": "",
       "arguments": {},
       "columnCustomDisplayInfos": {},
       "data": [
        [
         "dbfs:/tmp/car_data/_delta_log/.s3-optimization-0",
         ".s3-optimization-0",
         0,
         1716240675000
        ],
        [
         "dbfs:/tmp/car_data/_delta_log/.s3-optimization-1",
         ".s3-optimization-1",
         0,
         1716240675000
        ],
        [
         "dbfs:/tmp/car_data/_delta_log/.s3-optimization-2",
         ".s3-optimization-2",
         0,
         1716240675000
        ],
        [
         "dbfs:/tmp/car_data/_delta_log/00000000000000000000.crc",
         "00000000000000000000.crc",
         5127,
         1716240689000
        ],
        [
         "dbfs:/tmp/car_data/_delta_log/00000000000000000000.json",
         "00000000000000000000.json",
         4127,
         1716240675000
        ]
       ],
       "datasetInfos": [],
       "dbfsResultPath": null,
       "isJsonSchema": true,
       "metadata": {},
       "overflow": false,
       "plotOptions": {
        "customPlotOptions": {},
        "displayType": "table",
        "pivotAggregation": null,
        "pivotColumns": null,
        "xColumns": null,
        "yColumns": null
       },
       "removedWidgets": [],
       "schema": [
        {
         "metadata": "{}",
         "name": "path",
         "type": "\"string\""
        },
        {
         "metadata": "{}",
         "name": "name",
         "type": "\"string\""
        },
        {
         "metadata": "{}",
         "name": "size",
         "type": "\"long\""
        },
        {
         "metadata": "{}",
         "name": "modificationTime",
         "type": "\"long\""
        }
       ],
       "type": "table"
      }
     },
     "output_type": "display_data"
    }
   ],
   "source": [
    "## _delta_log contains our transaction files. Lets take a look at the current status. \n",
    "display(dbutils.fs.ls(f\"{save_path}/_delta_log/\"))"
   ]
  },
  {
   "cell_type": "code",
   "execution_count": 0,
   "metadata": {
    "application/vnd.databricks.v1+cell": {
     "cellMetadata": {
      "byteLimit": 2048000,
      "rowLimit": 10000
     },
     "inputWidgets": {},
     "nuid": "69d6930e-e861-461d-9b92-e89a7f162571",
     "showTitle": false,
     "title": ""
    }
   },
   "outputs": [
    {
     "output_type": "display_data",
     "data": {
      "text/html": [
       "<style scoped>\n",
       "  .table-result-container {\n",
       "    max-height: 300px;\n",
       "    overflow: auto;\n",
       "  }\n",
       "  table, th, td {\n",
       "    border: 1px solid black;\n",
       "    border-collapse: collapse;\n",
       "  }\n",
       "  th, td {\n",
       "    padding: 5px;\n",
       "  }\n",
       "  th {\n",
       "    text-align: left;\n",
       "  }\n",
       "</style><div class='table-result-container'><table class='table-result'><thead style='background-color: white'><tr><th>add</th><th>commitInfo</th><th>metaData</th><th>protocol</th></tr></thead><tbody><tr><td>null</td><td>List(0520-211800-eqpq177b, Databricks-Runtime/12.2.x-cpu-ml-scala2.12, false, WriteSerializable, List(3488725691099835), WRITE, List(1, 69682, 2059), List(Overwrite, []), 1716240674522, 92a788e9-f2e8-4428-b1fc-38595c43c01e, 2625471505770983, zshafiq001@citymail.cuny.edu)</td><td>null</td><td>null</td></tr><tr><td>null</td><td>null</td><td>null</td><td>List(1, 2)</td></tr><tr><td>null</td><td>null</td><td>List(1716240659290, List(parquet), 21933cfd-9f19-44b8-a2b7-c12038586f14, List(), {\"type\":\"struct\",\"fields\":[{\"name\":\"make\",\"type\":\"string\",\"nullable\":true,\"metadata\":{}},{\"name\":\"model\",\"type\":\"string\",\"nullable\":true,\"metadata\":{}},{\"name\":\"price\",\"type\":\"string\",\"nullable\":true,\"metadata\":{}},{\"name\":\"year\",\"type\":\"string\",\"nullable\":true,\"metadata\":{}},{\"name\":\"kilometer\",\"type\":\"string\",\"nullable\":true,\"metadata\":{}},{\"name\":\"fuel_type\",\"type\":\"string\",\"nullable\":true,\"metadata\":{}},{\"name\":\"transmission\",\"type\":\"string\",\"nullable\":true,\"metadata\":{}},{\"name\":\"location\",\"type\":\"string\",\"nullable\":true,\"metadata\":{}},{\"name\":\"color\",\"type\":\"string\",\"nullable\":true,\"metadata\":{}},{\"name\":\"owner\",\"type\":\"string\",\"nullable\":true,\"metadata\":{}},{\"name\":\"seller_type\",\"type\":\"string\",\"nullable\":true,\"metadata\":{}},{\"name\":\"engine\",\"type\":\"string\",\"nullable\":true,\"metadata\":{}},{\"name\":\"max_power\",\"type\":\"string\",\"nullable\":true,\"metadata\":{}},{\"name\":\"max_torque\",\"type\":\"string\",\"nullable\":true,\"metadata\":{}},{\"name\":\"drivetrain\",\"type\":\"string\",\"nullable\":true,\"metadata\":{}},{\"name\":\"length\",\"type\":\"string\",\"nullable\":true,\"metadata\":{}},{\"name\":\"width\",\"type\":\"string\",\"nullable\":true,\"metadata\":{}},{\"name\":\"height\",\"type\":\"string\",\"nullable\":true,\"metadata\":{}},{\"name\":\"seating_capacity\",\"type\":\"string\",\"nullable\":true,\"metadata\":{}},{\"name\":\"fuel_tank_capacity\",\"type\":\"string\",\"nullable\":true,\"metadata\":{}}]})</td><td>null</td></tr><tr><td>List(true, 1716240669000, part-00000-f3095cbe-3ac3-45e7-99a0-9eadeec303cd-c000.snappy.parquet, 69682, {\"numRecords\":2059,\"minValues\":{\"make\":\"Audi\",\"model\":\"2 Series Gran Coupe 220d M Sport\",\"price\":\"100000\",\"year\":\"1988\",\"kilometer\":\"0\",\"fuel_type\":\"CNG\",\"transmission\":\"Automatic\",\"location\":\"Agra\",\"color\":\"Beige\",\"owner\":\"4 or More\",\"seller_type\":\"Commercial Registration\",\"engine\":\"1047 cc\",\"max_power\":\"100 bhp @ 3600 rpm\",\"max_torque\":\"101 Nm @ 3000 rpm\",\"drivetrain\":\"AWD\",\"length\":\"3099\",\"width\":\"1475\",\"height\":\"1165\",\"seating_capacity\":\"2\",\"fuel_tank_capacity\":\"100\"},\"maxValues\":{\"make\":\"Volvo\",\"model\":\"i20 Sportz 1.4 CRDI\",\"price\":\"999000\",\"year\":\"2022\",\"kilometer\":\"99000\",\"fuel_type\":\"Petrol + LPG\",\"transmission\":\"Manual\",\"location\":\"Zirakpur\",\"color\":\"Yellow\",\"owner\":\"UnRegistered Car\",\"seller_type\":\"Individual\",\"engine\":\"999 cc\",\"max_power\":\"99 bhp @ 5000 rpm\",\"max_torque\":\"99@2800\",\"drivetrain\":\"RWD\",\"length\":\"5569\",\"width\":\"2220\",\"height\":\"1995\",\"seating_capacity\":\"8\",\"fuel_tank_capacity\":\"95\"},\"nullCount\":{\"make\":0,\"model\":0,\"price\":0,\"year\":0,\"kilometer\":10,\"fuel_type\":0,\"transmission\":0,\"location\":0,\"color\":0,\"owner\":0,\"seller_type\":0,\"engine\":80,\"max_power\":80,\"max_torque\":80,\"drivetrain\":136,\"length\":65,\"width\":65,\"height\":65,\"seating_capacity\":69,\"fuel_tank_capacity\":117}}, List(1716240669000000, 1716240669000000, 1716240669000000, 268435456))</td><td>null</td><td>null</td><td>null</td></tr></tbody></table></div>"
      ]
     },
     "metadata": {
      "application/vnd.databricks.v1+output": {
       "addedWidgets": {},
       "aggData": [],
       "aggError": "",
       "aggOverflow": false,
       "aggSchema": [],
       "aggSeriesLimitReached": false,
       "aggType": "",
       "arguments": {},
       "columnCustomDisplayInfos": {},
       "data": [
        [
         null,
         [
          "0520-211800-eqpq177b",
          "Databricks-Runtime/12.2.x-cpu-ml-scala2.12",
          false,
          "WriteSerializable",
          [
           "3488725691099835"
          ],
          "WRITE",
          [
           "1",
           "69682",
           "2059"
          ],
          [
           "Overwrite",
           "[]"
          ],
          1716240674522,
          "92a788e9-f2e8-4428-b1fc-38595c43c01e",
          "2625471505770983",
          "zshafiq001@citymail.cuny.edu"
         ],
         null,
         null
        ],
        [
         null,
         null,
         null,
         [
          1,
          2
         ]
        ],
        [
         null,
         null,
         [
          1716240659290,
          [
           "parquet"
          ],
          "21933cfd-9f19-44b8-a2b7-c12038586f14",
          [],
          "{\"type\":\"struct\",\"fields\":[{\"name\":\"make\",\"type\":\"string\",\"nullable\":true,\"metadata\":{}},{\"name\":\"model\",\"type\":\"string\",\"nullable\":true,\"metadata\":{}},{\"name\":\"price\",\"type\":\"string\",\"nullable\":true,\"metadata\":{}},{\"name\":\"year\",\"type\":\"string\",\"nullable\":true,\"metadata\":{}},{\"name\":\"kilometer\",\"type\":\"string\",\"nullable\":true,\"metadata\":{}},{\"name\":\"fuel_type\",\"type\":\"string\",\"nullable\":true,\"metadata\":{}},{\"name\":\"transmission\",\"type\":\"string\",\"nullable\":true,\"metadata\":{}},{\"name\":\"location\",\"type\":\"string\",\"nullable\":true,\"metadata\":{}},{\"name\":\"color\",\"type\":\"string\",\"nullable\":true,\"metadata\":{}},{\"name\":\"owner\",\"type\":\"string\",\"nullable\":true,\"metadata\":{}},{\"name\":\"seller_type\",\"type\":\"string\",\"nullable\":true,\"metadata\":{}},{\"name\":\"engine\",\"type\":\"string\",\"nullable\":true,\"metadata\":{}},{\"name\":\"max_power\",\"type\":\"string\",\"nullable\":true,\"metadata\":{}},{\"name\":\"max_torque\",\"type\":\"string\",\"nullable\":true,\"metadata\":{}},{\"name\":\"drivetrain\",\"type\":\"string\",\"nullable\":true,\"metadata\":{}},{\"name\":\"length\",\"type\":\"string\",\"nullable\":true,\"metadata\":{}},{\"name\":\"width\",\"type\":\"string\",\"nullable\":true,\"metadata\":{}},{\"name\":\"height\",\"type\":\"string\",\"nullable\":true,\"metadata\":{}},{\"name\":\"seating_capacity\",\"type\":\"string\",\"nullable\":true,\"metadata\":{}},{\"name\":\"fuel_tank_capacity\",\"type\":\"string\",\"nullable\":true,\"metadata\":{}}]}"
         ],
         null
        ],
        [
         [
          true,
          1716240669000,
          "part-00000-f3095cbe-3ac3-45e7-99a0-9eadeec303cd-c000.snappy.parquet",
          69682,
          "{\"numRecords\":2059,\"minValues\":{\"make\":\"Audi\",\"model\":\"2 Series Gran Coupe 220d M Sport\",\"price\":\"100000\",\"year\":\"1988\",\"kilometer\":\"0\",\"fuel_type\":\"CNG\",\"transmission\":\"Automatic\",\"location\":\"Agra\",\"color\":\"Beige\",\"owner\":\"4 or More\",\"seller_type\":\"Commercial Registration\",\"engine\":\"1047 cc\",\"max_power\":\"100 bhp @ 3600 rpm\",\"max_torque\":\"101 Nm @ 3000 rpm\",\"drivetrain\":\"AWD\",\"length\":\"3099\",\"width\":\"1475\",\"height\":\"1165\",\"seating_capacity\":\"2\",\"fuel_tank_capacity\":\"100\"},\"maxValues\":{\"make\":\"Volvo\",\"model\":\"i20 Sportz 1.4 CRDI\",\"price\":\"999000\",\"year\":\"2022\",\"kilometer\":\"99000\",\"fuel_type\":\"Petrol + LPG\",\"transmission\":\"Manual\",\"location\":\"Zirakpur\",\"color\":\"Yellow\",\"owner\":\"UnRegistered Car\",\"seller_type\":\"Individual\",\"engine\":\"999 cc\",\"max_power\":\"99 bhp @ 5000 rpm\",\"max_torque\":\"99@2800\",\"drivetrain\":\"RWD\",\"length\":\"5569\",\"width\":\"2220\",\"height\":\"1995\",\"seating_capacity\":\"8\",\"fuel_tank_capacity\":\"95\"},\"nullCount\":{\"make\":0,\"model\":0,\"price\":0,\"year\":0,\"kilometer\":10,\"fuel_type\":0,\"transmission\":0,\"location\":0,\"color\":0,\"owner\":0,\"seller_type\":0,\"engine\":80,\"max_power\":80,\"max_torque\":80,\"drivetrain\":136,\"length\":65,\"width\":65,\"height\":65,\"seating_capacity\":69,\"fuel_tank_capacity\":117}}",
          [
           "1716240669000000",
           "1716240669000000",
           "1716240669000000",
           "268435456"
          ]
         ],
         null,
         null,
         null
        ]
       ],
       "datasetInfos": [],
       "dbfsResultPath": null,
       "isJsonSchema": true,
       "metadata": {},
       "overflow": false,
       "plotOptions": {
        "customPlotOptions": {},
        "displayType": "table",
        "pivotAggregation": null,
        "pivotColumns": null,
        "xColumns": null,
        "yColumns": null
       },
       "removedWidgets": [],
       "schema": [
        {
         "metadata": "{}",
         "name": "add",
         "type": "{\"type\":\"struct\",\"fields\":[{\"name\":\"dataChange\",\"type\":\"boolean\",\"nullable\":true,\"metadata\":{}},{\"name\":\"modificationTime\",\"type\":\"long\",\"nullable\":true,\"metadata\":{}},{\"name\":\"path\",\"type\":\"string\",\"nullable\":true,\"metadata\":{}},{\"name\":\"size\",\"type\":\"long\",\"nullable\":true,\"metadata\":{}},{\"name\":\"stats\",\"type\":\"string\",\"nullable\":true,\"metadata\":{}},{\"name\":\"tags\",\"type\":{\"type\":\"struct\",\"fields\":[{\"name\":\"INSERTION_TIME\",\"type\":\"string\",\"nullable\":true,\"metadata\":{}},{\"name\":\"MAX_INSERTION_TIME\",\"type\":\"string\",\"nullable\":true,\"metadata\":{}},{\"name\":\"MIN_INSERTION_TIME\",\"type\":\"string\",\"nullable\":true,\"metadata\":{}},{\"name\":\"OPTIMIZE_TARGET_SIZE\",\"type\":\"string\",\"nullable\":true,\"metadata\":{}}]},\"nullable\":true,\"metadata\":{}}]}"
        },
        {
         "metadata": "{}",
         "name": "commitInfo",
         "type": "{\"type\":\"struct\",\"fields\":[{\"name\":\"clusterId\",\"type\":\"string\",\"nullable\":true,\"metadata\":{}},{\"name\":\"engineInfo\",\"type\":\"string\",\"nullable\":true,\"metadata\":{}},{\"name\":\"isBlindAppend\",\"type\":\"boolean\",\"nullable\":true,\"metadata\":{}},{\"name\":\"isolationLevel\",\"type\":\"string\",\"nullable\":true,\"metadata\":{}},{\"name\":\"notebook\",\"type\":{\"type\":\"struct\",\"fields\":[{\"name\":\"notebookId\",\"type\":\"string\",\"nullable\":true,\"metadata\":{}}]},\"nullable\":true,\"metadata\":{}},{\"name\":\"operation\",\"type\":\"string\",\"nullable\":true,\"metadata\":{}},{\"name\":\"operationMetrics\",\"type\":{\"type\":\"struct\",\"fields\":[{\"name\":\"numFiles\",\"type\":\"string\",\"nullable\":true,\"metadata\":{}},{\"name\":\"numOutputBytes\",\"type\":\"string\",\"nullable\":true,\"metadata\":{}},{\"name\":\"numOutputRows\",\"type\":\"string\",\"nullable\":true,\"metadata\":{}}]},\"nullable\":true,\"metadata\":{}},{\"name\":\"operationParameters\",\"type\":{\"type\":\"struct\",\"fields\":[{\"name\":\"mode\",\"type\":\"string\",\"nullable\":true,\"metadata\":{}},{\"name\":\"partitionBy\",\"type\":\"string\",\"nullable\":true,\"metadata\":{}}]},\"nullable\":true,\"metadata\":{}},{\"name\":\"timestamp\",\"type\":\"long\",\"nullable\":true,\"metadata\":{}},{\"name\":\"txnId\",\"type\":\"string\",\"nullable\":true,\"metadata\":{}},{\"name\":\"userId\",\"type\":\"string\",\"nullable\":true,\"metadata\":{}},{\"name\":\"userName\",\"type\":\"string\",\"nullable\":true,\"metadata\":{}}]}"
        },
        {
         "metadata": "{}",
         "name": "metaData",
         "type": "{\"type\":\"struct\",\"fields\":[{\"name\":\"createdTime\",\"type\":\"long\",\"nullable\":true,\"metadata\":{}},{\"name\":\"format\",\"type\":{\"type\":\"struct\",\"fields\":[{\"name\":\"provider\",\"type\":\"string\",\"nullable\":true,\"metadata\":{}}]},\"nullable\":true,\"metadata\":{}},{\"name\":\"id\",\"type\":\"string\",\"nullable\":true,\"metadata\":{}},{\"name\":\"partitionColumns\",\"type\":{\"type\":\"array\",\"elementType\":\"string\",\"containsNull\":true},\"nullable\":true,\"metadata\":{}},{\"name\":\"schemaString\",\"type\":\"string\",\"nullable\":true,\"metadata\":{}}]}"
        },
        {
         "metadata": "{}",
         "name": "protocol",
         "type": "{\"type\":\"struct\",\"fields\":[{\"name\":\"minReaderVersion\",\"type\":\"long\",\"nullable\":true,\"metadata\":{}},{\"name\":\"minWriterVersion\",\"type\":\"long\",\"nullable\":true,\"metadata\":{}}]}"
        }
       ],
       "type": "table"
      }
     },
     "output_type": "display_data"
    }
   ],
   "source": [
    "## Let's display the first transaction log. \n",
    "display(spark.read.json(f\"{save_path}/_delta_log/00000000000000000000.json\"))"
   ]
  },
  {
   "cell_type": "markdown",
   "metadata": {
    "application/vnd.databricks.v1+cell": {
     "cellMetadata": {},
     "inputWidgets": {},
     "nuid": "35cd6c73-cf2d-4aab-816b-94fdb24bb588",
     "showTitle": false,
     "title": ""
    }
   },
   "source": [
    "#### <img src='https://www.svgrepo.com/show/170412/notebook.svg' style=\"height: 65px; margin: 5px; padding: 5px\"/> Task 1: \n",
    "\n",
    "Look through the transaction log displayed above and answer the following questions: \n",
    "\n",
    "1. What are the column names in the json file?\n",
    "2. What do the rows represent? \n",
    "3. Which transaction does this log detail? \n"
   ]
  },
  {
   "cell_type": "markdown",
   "metadata": {
    "application/vnd.databricks.v1+cell": {
     "cellMetadata": {},
     "collapsed": true,
     "inputWidgets": {},
     "nuid": "411f1441-2a7a-4fb1-975a-2ac59b6d25c2",
     "showTitle": true,
     "title": "Solution"
    }
   },
   "source": [
    "-------------------------------------------------------------------------------------\n",
    "\n",
    "* The columns are **`add`**, **`commitInfo`**, **`metaData`**, and **`protocol version`**\n",
    "   * **`add`** contains statistics for the entire DataFrame \n",
    "   * **`commitInfo`** details who made what change to the data. It contains information about username and the operation committed in addition to the cluster information, the runtime used and more. \n",
    "   * **`metaData`** presents information about the schema \n",
    "   * **`protocol`** shows the software version compatibility for the Delta Table. (i.e. the Delta Table version)\n",
    "\n",
    "* The rows represent each atomic action that the operation is broken down into. More on this in the next section. \n",
    "\n",
    "* The creation of the Delta Table."
   ]
  },
  {
   "cell_type": "markdown",
   "metadata": {
    "application/vnd.databricks.v1+cell": {
     "cellMetadata": {},
     "inputWidgets": {},
     "nuid": "461c3f1f-6d2b-46b9-9878-0d2611734fa6",
     "showTitle": false,
     "title": ""
    }
   },
   "source": [
    "#### <img src = 'https://www.svgrepo.com/show/499853/idea.svg' style=\"height: 60px; margin: 5px; padding: 5px\"/>  Atomicity\n",
    "\n",
    "Atomicity makes up the 'A\" in ACID. Atomicity refers to treating an operation as a simgle unit and gurantees that an operation either completes execution or it does not complete at all. The addition of atomicity to the data lake ensures that no failed jobs go unnoticed and corrupt the data. The transaction log ensures atomicity as if an operation is not recorded in the transaction log, it did not happen/complete. This removes the possibility of partially complete actions as the transaction log only records actions that execute fully. When this log is then used to update users tables, the Delta Engine is ensuring that only completed operations are being executed. \n"
   ]
  },
  {
   "cell_type": "code",
   "execution_count": 0,
   "metadata": {
    "application/vnd.databricks.v1+cell": {
     "cellMetadata": {
      "byteLimit": 2048000,
      "rowLimit": 10000
     },
     "inputWidgets": {},
     "nuid": "d653a76b-5c61-4639-a435-e6c6843a7573",
     "showTitle": false,
     "title": ""
    }
   },
   "outputs": [
    {
     "output_type": "display_data",
     "data": {
      "text/html": [
       "<style scoped>\n",
       "  .table-result-container {\n",
       "    max-height: 300px;\n",
       "    overflow: auto;\n",
       "  }\n",
       "  table, th, td {\n",
       "    border: 1px solid black;\n",
       "    border-collapse: collapse;\n",
       "  }\n",
       "  th, td {\n",
       "    padding: 5px;\n",
       "  }\n",
       "  th {\n",
       "    text-align: left;\n",
       "  }\n",
       "</style><div class='table-result-container'><table class='table-result'><thead style='background-color: white'><tr><th>make</th><th>model</th><th>price</th><th>year</th><th>kilometer</th><th>fuel_type</th><th>transmission</th><th>location</th><th>color</th><th>owner</th><th>seller_type</th><th>engine</th><th>max_power</th><th>max_torque</th><th>drivetrain</th><th>length</th><th>width</th><th>height</th><th>seating_capacity</th><th>fuel_tank_capacity</th><th>100k_miles</th></tr></thead><tbody><tr><td>Honda</td><td>Amaze 1.2 VX i-VTEC</td><td>505000</td><td>2017</td><td>87150</td><td>Petrol</td><td>Manual</td><td>Pune</td><td>Grey</td><td>First</td><td>Corporate</td><td>1198 cc</td><td>87 bhp @ 6000 rpm</td><td>109 Nm @ 4500 rpm</td><td>FWD</td><td>3990</td><td>1680</td><td>1505</td><td>5</td><td>35</td><td>false</td></tr><tr><td>Maruti Suzuki</td><td>Swift DZire VDI</td><td>450000</td><td>2014</td><td>75000</td><td>Diesel</td><td>Manual</td><td>Ludhiana</td><td>White</td><td>Second</td><td>Individual</td><td>1248 cc</td><td>74 bhp @ 4000 rpm</td><td>190 Nm @ 2000 rpm</td><td>FWD</td><td>3995</td><td>1695</td><td>1555</td><td>5</td><td>42</td><td>false</td></tr><tr><td>Hyundai</td><td>i10 Magna 1.2 Kappa2</td><td>220000</td><td>2011</td><td>67000</td><td>Petrol</td><td>Manual</td><td>Lucknow</td><td>Maroon</td><td>First</td><td>Individual</td><td>1197 cc</td><td>79 bhp @ 6000 rpm</td><td>112.7619 Nm @ 4000 rpm</td><td>FWD</td><td>3585</td><td>1595</td><td>1550</td><td>5</td><td>35</td><td>false</td></tr><tr><td>Toyota</td><td>Glanza G</td><td>799000</td><td>2019</td><td>37500</td><td>Petrol</td><td>Manual</td><td>Mangalore</td><td>Red</td><td>First</td><td>Individual</td><td>1197 cc</td><td>82 bhp @ 6000 rpm</td><td>113 Nm @ 4200 rpm</td><td>FWD</td><td>3995</td><td>1745</td><td>1510</td><td>5</td><td>37</td><td>false</td></tr><tr><td>Toyota</td><td>Innova 2.4 VX 7 STR [2016-2020]</td><td>1950000</td><td>2018</td><td>69000</td><td>Diesel</td><td>Manual</td><td>Mumbai</td><td>Grey</td><td>First</td><td>Individual</td><td>2393 cc</td><td>148 bhp @ 3400 rpm</td><td>343 Nm @ 1400 rpm</td><td>RWD</td><td>4735</td><td>1830</td><td>1795</td><td>7</td><td>55</td><td>false</td></tr></tbody></table></div>"
      ]
     },
     "metadata": {
      "application/vnd.databricks.v1+output": {
       "addedWidgets": {},
       "aggData": [],
       "aggError": "",
       "aggOverflow": false,
       "aggSchema": [],
       "aggSeriesLimitReached": false,
       "aggType": "",
       "arguments": {},
       "columnCustomDisplayInfos": {},
       "data": [
        [
         "Honda",
         "Amaze 1.2 VX i-VTEC",
         "505000",
         "2017",
         87150,
         "Petrol",
         "Manual",
         "Pune",
         "Grey",
         "First",
         "Corporate",
         "1198 cc",
         "87 bhp @ 6000 rpm",
         "109 Nm @ 4500 rpm",
         "FWD",
         "3990",
         "1680",
         "1505",
         "5",
         "35",
         false
        ],
        [
         "Maruti Suzuki",
         "Swift DZire VDI",
         "450000",
         "2014",
         75000,
         "Diesel",
         "Manual",
         "Ludhiana",
         "White",
         "Second",
         "Individual",
         "1248 cc",
         "74 bhp @ 4000 rpm",
         "190 Nm @ 2000 rpm",
         "FWD",
         "3995",
         "1695",
         "1555",
         "5",
         "42",
         false
        ],
        [
         "Hyundai",
         "i10 Magna 1.2 Kappa2",
         "220000",
         "2011",
         67000,
         "Petrol",
         "Manual",
         "Lucknow",
         "Maroon",
         "First",
         "Individual",
         "1197 cc",
         "79 bhp @ 6000 rpm",
         "112.7619 Nm @ 4000 rpm",
         "FWD",
         "3585",
         "1595",
         "1550",
         "5",
         "35",
         false
        ],
        [
         "Toyota",
         "Glanza G",
         "799000",
         "2019",
         37500,
         "Petrol",
         "Manual",
         "Mangalore",
         "Red",
         "First",
         "Individual",
         "1197 cc",
         "82 bhp @ 6000 rpm",
         "113 Nm @ 4200 rpm",
         "FWD",
         "3995",
         "1745",
         "1510",
         "5",
         "37",
         false
        ],
        [
         "Toyota",
         "Innova 2.4 VX 7 STR [2016-2020]",
         "1950000",
         "2018",
         69000,
         "Diesel",
         "Manual",
         "Mumbai",
         "Grey",
         "First",
         "Individual",
         "2393 cc",
         "148 bhp @ 3400 rpm",
         "343 Nm @ 1400 rpm",
         "RWD",
         "4735",
         "1830",
         "1795",
         "7",
         "55",
         false
        ]
       ],
       "datasetInfos": [],
       "dbfsResultPath": null,
       "isJsonSchema": true,
       "metadata": {},
       "overflow": false,
       "plotOptions": {
        "customPlotOptions": {},
        "displayType": "table",
        "pivotAggregation": null,
        "pivotColumns": null,
        "xColumns": null,
        "yColumns": null
       },
       "removedWidgets": [],
       "schema": [
        {
         "metadata": "{}",
         "name": "make",
         "type": "\"string\""
        },
        {
         "metadata": "{}",
         "name": "model",
         "type": "\"string\""
        },
        {
         "metadata": "{}",
         "name": "price",
         "type": "\"string\""
        },
        {
         "metadata": "{}",
         "name": "year",
         "type": "\"string\""
        },
        {
         "metadata": "{}",
         "name": "kilometer",
         "type": "\"integer\""
        },
        {
         "metadata": "{}",
         "name": "fuel_type",
         "type": "\"string\""
        },
        {
         "metadata": "{}",
         "name": "transmission",
         "type": "\"string\""
        },
        {
         "metadata": "{}",
         "name": "location",
         "type": "\"string\""
        },
        {
         "metadata": "{}",
         "name": "color",
         "type": "\"string\""
        },
        {
         "metadata": "{}",
         "name": "owner",
         "type": "\"string\""
        },
        {
         "metadata": "{}",
         "name": "seller_type",
         "type": "\"string\""
        },
        {
         "metadata": "{}",
         "name": "engine",
         "type": "\"string\""
        },
        {
         "metadata": "{}",
         "name": "max_power",
         "type": "\"string\""
        },
        {
         "metadata": "{}",
         "name": "max_torque",
         "type": "\"string\""
        },
        {
         "metadata": "{}",
         "name": "drivetrain",
         "type": "\"string\""
        },
        {
         "metadata": "{}",
         "name": "length",
         "type": "\"string\""
        },
        {
         "metadata": "{}",
         "name": "width",
         "type": "\"string\""
        },
        {
         "metadata": "{}",
         "name": "height",
         "type": "\"string\""
        },
        {
         "metadata": "{}",
         "name": "seating_capacity",
         "type": "\"string\""
        },
        {
         "metadata": "{}",
         "name": "fuel_tank_capacity",
         "type": "\"string\""
        },
        {
         "metadata": "{}",
         "name": "100k_miles",
         "type": "\"boolean\""
        }
       ],
       "type": "table"
      }
     },
     "output_type": "display_data"
    }
   ],
   "source": [
    "## Lets update the table by adding a new column \n",
    "from pyspark.sql.functions import col, when, translate\n",
    "\n",
    "## As in the data cleaning notebook, we first need to convert the kilometer column to an integer \n",
    "car_data = car_data.withColumn('kilometer', translate(col('kilometer'), ' ', '').cast('int'))\n",
    "car_data = car_data.withColumn(\"100k_miles\", when(col(\"kilometer\") > 100000, True).otherwise(False))\n",
    "\n",
    "display(car_data.limit(5))\n"
   ]
  },
  {
   "cell_type": "code",
   "execution_count": 0,
   "metadata": {
    "application/vnd.databricks.v1+cell": {
     "cellMetadata": {},
     "inputWidgets": {},
     "nuid": "a0c10df6-9b93-494c-a2b6-2ef6566e958d",
     "showTitle": false,
     "title": ""
    }
   },
   "outputs": [],
   "source": [
    "''' \n",
    "Lets save our updated table. \n",
    ".option(\"overwriteSchema\", \"true\") `**:  replaces the existing schema with the updated one. We need this as we changed the datatypes of the columns, which is recorded as part of the schema. \n",
    "'''\n",
    "\n",
    "car_data.write.format(\"delta\").mode(\"overwrite\").option(\"overwriteSchema\", \"true\").save(save_path)"
   ]
  },
  {
   "cell_type": "code",
   "execution_count": 0,
   "metadata": {
    "application/vnd.databricks.v1+cell": {
     "cellMetadata": {
      "byteLimit": 2048000,
      "rowLimit": 10000
     },
     "inputWidgets": {},
     "nuid": "ca9679f6-bc9c-493d-9eaf-879b34d83654",
     "showTitle": false,
     "title": ""
    }
   },
   "outputs": [
    {
     "output_type": "display_data",
     "data": {
      "text/html": [
       "<style scoped>\n",
       "  .table-result-container {\n",
       "    max-height: 300px;\n",
       "    overflow: auto;\n",
       "  }\n",
       "  table, th, td {\n",
       "    border: 1px solid black;\n",
       "    border-collapse: collapse;\n",
       "  }\n",
       "  th, td {\n",
       "    padding: 5px;\n",
       "  }\n",
       "  th {\n",
       "    text-align: left;\n",
       "  }\n",
       "</style><div class='table-result-container'><table class='table-result'><thead style='background-color: white'><tr><th>path</th><th>name</th><th>size</th><th>modificationTime</th></tr></thead><tbody><tr><td>dbfs:/tmp/car_data/_delta_log/.s3-optimization-0</td><td>.s3-optimization-0</td><td>0</td><td>1716240675000</td></tr><tr><td>dbfs:/tmp/car_data/_delta_log/.s3-optimization-1</td><td>.s3-optimization-1</td><td>0</td><td>1716240675000</td></tr><tr><td>dbfs:/tmp/car_data/_delta_log/.s3-optimization-2</td><td>.s3-optimization-2</td><td>0</td><td>1716240675000</td></tr><tr><td>dbfs:/tmp/car_data/_delta_log/00000000000000000000.crc</td><td>00000000000000000000.crc</td><td>5127</td><td>1716240689000</td></tr><tr><td>dbfs:/tmp/car_data/_delta_log/00000000000000000000.json</td><td>00000000000000000000.json</td><td>4127</td><td>1716240675000</td></tr><tr><td>dbfs:/tmp/car_data/_delta_log/00000000000000000001.crc</td><td>00000000000000000001.crc</td><td>3444</td><td>1716247166000</td></tr><tr><td>dbfs:/tmp/car_data/_delta_log/00000000000000000001.json</td><td>00000000000000000001.json</td><td>4543</td><td>1716247162000</td></tr></tbody></table></div>"
      ]
     },
     "metadata": {
      "application/vnd.databricks.v1+output": {
       "addedWidgets": {},
       "aggData": [],
       "aggError": "",
       "aggOverflow": false,
       "aggSchema": [],
       "aggSeriesLimitReached": false,
       "aggType": "",
       "arguments": {},
       "columnCustomDisplayInfos": {},
       "data": [
        [
         "dbfs:/tmp/car_data/_delta_log/.s3-optimization-0",
         ".s3-optimization-0",
         0,
         1716240675000
        ],
        [
         "dbfs:/tmp/car_data/_delta_log/.s3-optimization-1",
         ".s3-optimization-1",
         0,
         1716240675000
        ],
        [
         "dbfs:/tmp/car_data/_delta_log/.s3-optimization-2",
         ".s3-optimization-2",
         0,
         1716240675000
        ],
        [
         "dbfs:/tmp/car_data/_delta_log/00000000000000000000.crc",
         "00000000000000000000.crc",
         5127,
         1716240689000
        ],
        [
         "dbfs:/tmp/car_data/_delta_log/00000000000000000000.json",
         "00000000000000000000.json",
         4127,
         1716240675000
        ],
        [
         "dbfs:/tmp/car_data/_delta_log/00000000000000000001.crc",
         "00000000000000000001.crc",
         3444,
         1716247166000
        ],
        [
         "dbfs:/tmp/car_data/_delta_log/00000000000000000001.json",
         "00000000000000000001.json",
         4543,
         1716247162000
        ]
       ],
       "datasetInfos": [],
       "dbfsResultPath": null,
       "isJsonSchema": true,
       "metadata": {},
       "overflow": false,
       "plotOptions": {
        "customPlotOptions": {},
        "displayType": "table",
        "pivotAggregation": null,
        "pivotColumns": null,
        "xColumns": null,
        "yColumns": null
       },
       "removedWidgets": [],
       "schema": [
        {
         "metadata": "{}",
         "name": "path",
         "type": "\"string\""
        },
        {
         "metadata": "{}",
         "name": "name",
         "type": "\"string\""
        },
        {
         "metadata": "{}",
         "name": "size",
         "type": "\"long\""
        },
        {
         "metadata": "{}",
         "name": "modificationTime",
         "type": "\"long\""
        }
       ],
       "type": "table"
      }
     },
     "output_type": "display_data"
    }
   ],
   "source": [
    "# Displaying our transaction logs again, we see that there is a new log added to our folder. \n",
    "display(dbutils.fs.ls(f\"{save_path}/_delta_log/\"))"
   ]
  },
  {
   "cell_type": "code",
   "execution_count": 0,
   "metadata": {
    "application/vnd.databricks.v1+cell": {
     "cellMetadata": {
      "byteLimit": 2048000,
      "rowLimit": 10000
     },
     "inputWidgets": {},
     "nuid": "a0f46e12-54f7-4335-9fde-7332961a8c3d",
     "showTitle": false,
     "title": ""
    }
   },
   "outputs": [
    {
     "output_type": "display_data",
     "data": {
      "text/html": [
       "<style scoped>\n",
       "  .table-result-container {\n",
       "    max-height: 300px;\n",
       "    overflow: auto;\n",
       "  }\n",
       "  table, th, td {\n",
       "    border: 1px solid black;\n",
       "    border-collapse: collapse;\n",
       "  }\n",
       "  th, td {\n",
       "    padding: 5px;\n",
       "  }\n",
       "  th {\n",
       "    text-align: left;\n",
       "  }\n",
       "</style><div class='table-result-container'><table class='table-result'><thead style='background-color: white'><tr><th>add</th><th>commitInfo</th><th>metaData</th><th>remove</th></tr></thead><tbody><tr><td>null</td><td>List(0520-211800-eqpq177b, Databricks-Runtime/12.2.x-cpu-ml-scala2.12, false, WriteSerializable, List(3488725691099835), WRITE, List(1, 68746, 2059), List(Overwrite, []), 0, 1716247161713, e2b5a0d8-1aaa-4ef0-8c1c-967be4f6cbb0, 2625471505770983, zshafiq001@citymail.cuny.edu)</td><td>null</td><td>null</td></tr><tr><td>null</td><td>null</td><td>List(1716240659290, List(parquet), 21933cfd-9f19-44b8-a2b7-c12038586f14, List(), {\"type\":\"struct\",\"fields\":[{\"name\":\"make\",\"type\":\"string\",\"nullable\":true,\"metadata\":{}},{\"name\":\"model\",\"type\":\"string\",\"nullable\":true,\"metadata\":{}},{\"name\":\"price\",\"type\":\"string\",\"nullable\":true,\"metadata\":{}},{\"name\":\"year\",\"type\":\"string\",\"nullable\":true,\"metadata\":{}},{\"name\":\"kilometer\",\"type\":\"integer\",\"nullable\":true,\"metadata\":{}},{\"name\":\"fuel_type\",\"type\":\"string\",\"nullable\":true,\"metadata\":{}},{\"name\":\"transmission\",\"type\":\"string\",\"nullable\":true,\"metadata\":{}},{\"name\":\"location\",\"type\":\"string\",\"nullable\":true,\"metadata\":{}},{\"name\":\"color\",\"type\":\"string\",\"nullable\":true,\"metadata\":{}},{\"name\":\"owner\",\"type\":\"string\",\"nullable\":true,\"metadata\":{}},{\"name\":\"seller_type\",\"type\":\"string\",\"nullable\":true,\"metadata\":{}},{\"name\":\"engine\",\"type\":\"string\",\"nullable\":true,\"metadata\":{}},{\"name\":\"max_power\",\"type\":\"string\",\"nullable\":true,\"metadata\":{}},{\"name\":\"max_torque\",\"type\":\"string\",\"nullable\":true,\"metadata\":{}},{\"name\":\"drivetrain\",\"type\":\"string\",\"nullable\":true,\"metadata\":{}},{\"name\":\"length\",\"type\":\"string\",\"nullable\":true,\"metadata\":{}},{\"name\":\"width\",\"type\":\"string\",\"nullable\":true,\"metadata\":{}},{\"name\":\"height\",\"type\":\"string\",\"nullable\":true,\"metadata\":{}},{\"name\":\"seating_capacity\",\"type\":\"string\",\"nullable\":true,\"metadata\":{}},{\"name\":\"fuel_tank_capacity\",\"type\":\"string\",\"nullable\":true,\"metadata\":{}},{\"name\":\"100k_miles\",\"type\":\"boolean\",\"nullable\":true,\"metadata\":{}}]})</td><td>null</td></tr><tr><td>List(true, 1716247161000, part-00000-26e6a466-1c12-405c-80ed-62a0c5ebdd2d-c000.snappy.parquet, 68746, {\"numRecords\":2059,\"minValues\":{\"make\":\"Audi\",\"model\":\"2 Series Gran Coupe 220d M Sport\",\"price\":\"100000\",\"year\":\"1988\",\"kilometer\":0,\"fuel_type\":\"CNG\",\"transmission\":\"Automatic\",\"location\":\"Agra\",\"color\":\"Beige\",\"owner\":\"4 or More\",\"seller_type\":\"Commercial Registration\",\"engine\":\"1047 cc\",\"max_power\":\"100 bhp @ 3600 rpm\",\"max_torque\":\"101 Nm @ 3000 rpm\",\"drivetrain\":\"AWD\",\"length\":\"3099\",\"width\":\"1475\",\"height\":\"1165\",\"seating_capacity\":\"2\",\"fuel_tank_capacity\":\"100\"},\"maxValues\":{\"make\":\"Volvo\",\"model\":\"i20 Sportz 1.4 CRDI\",\"price\":\"999000\",\"year\":\"2022\",\"kilometer\":2000000,\"fuel_type\":\"Petrol + LPG\",\"transmission\":\"Manual\",\"location\":\"Zirakpur\",\"color\":\"Yellow\",\"owner\":\"UnRegistered Car\",\"seller_type\":\"Individual\",\"engine\":\"999 cc\",\"max_power\":\"99 bhp @ 5000 rpm\",\"max_torque\":\"99@2800\",\"drivetrain\":\"RWD\",\"length\":\"5569\",\"width\":\"2220\",\"height\":\"1995\",\"seating_capacity\":\"8\",\"fuel_tank_capacity\":\"95\"},\"nullCount\":{\"make\":0,\"model\":0,\"price\":0,\"year\":0,\"kilometer\":10,\"fuel_type\":0,\"transmission\":0,\"location\":0,\"color\":0,\"owner\":0,\"seller_type\":0,\"engine\":80,\"max_power\":80,\"max_torque\":80,\"drivetrain\":136,\"length\":65,\"width\":65,\"height\":65,\"seating_capacity\":69,\"fuel_tank_capacity\":117,\"100k_miles\":0}}, List(1716247161000000, 1716247161000000, 1716247161000000, 268435456))</td><td>null</td><td>null</td><td>null</td></tr><tr><td>null</td><td>null</td><td>null</td><td>List(true, 1716247161704, true, part-00000-f3095cbe-3ac3-45e7-99a0-9eadeec303cd-c000.snappy.parquet, 69682, List(1716240669000000, 1716240669000000, 1716240669000000, 268435456))</td></tr></tbody></table></div>"
      ]
     },
     "metadata": {
      "application/vnd.databricks.v1+output": {
       "addedWidgets": {},
       "aggData": [],
       "aggError": "",
       "aggOverflow": false,
       "aggSchema": [],
       "aggSeriesLimitReached": false,
       "aggType": "",
       "arguments": {},
       "columnCustomDisplayInfos": {},
       "data": [
        [
         null,
         [
          "0520-211800-eqpq177b",
          "Databricks-Runtime/12.2.x-cpu-ml-scala2.12",
          false,
          "WriteSerializable",
          [
           "3488725691099835"
          ],
          "WRITE",
          [
           "1",
           "68746",
           "2059"
          ],
          [
           "Overwrite",
           "[]"
          ],
          0,
          1716247161713,
          "e2b5a0d8-1aaa-4ef0-8c1c-967be4f6cbb0",
          "2625471505770983",
          "zshafiq001@citymail.cuny.edu"
         ],
         null,
         null
        ],
        [
         null,
         null,
         [
          1716240659290,
          [
           "parquet"
          ],
          "21933cfd-9f19-44b8-a2b7-c12038586f14",
          [],
          "{\"type\":\"struct\",\"fields\":[{\"name\":\"make\",\"type\":\"string\",\"nullable\":true,\"metadata\":{}},{\"name\":\"model\",\"type\":\"string\",\"nullable\":true,\"metadata\":{}},{\"name\":\"price\",\"type\":\"string\",\"nullable\":true,\"metadata\":{}},{\"name\":\"year\",\"type\":\"string\",\"nullable\":true,\"metadata\":{}},{\"name\":\"kilometer\",\"type\":\"integer\",\"nullable\":true,\"metadata\":{}},{\"name\":\"fuel_type\",\"type\":\"string\",\"nullable\":true,\"metadata\":{}},{\"name\":\"transmission\",\"type\":\"string\",\"nullable\":true,\"metadata\":{}},{\"name\":\"location\",\"type\":\"string\",\"nullable\":true,\"metadata\":{}},{\"name\":\"color\",\"type\":\"string\",\"nullable\":true,\"metadata\":{}},{\"name\":\"owner\",\"type\":\"string\",\"nullable\":true,\"metadata\":{}},{\"name\":\"seller_type\",\"type\":\"string\",\"nullable\":true,\"metadata\":{}},{\"name\":\"engine\",\"type\":\"string\",\"nullable\":true,\"metadata\":{}},{\"name\":\"max_power\",\"type\":\"string\",\"nullable\":true,\"metadata\":{}},{\"name\":\"max_torque\",\"type\":\"string\",\"nullable\":true,\"metadata\":{}},{\"name\":\"drivetrain\",\"type\":\"string\",\"nullable\":true,\"metadata\":{}},{\"name\":\"length\",\"type\":\"string\",\"nullable\":true,\"metadata\":{}},{\"name\":\"width\",\"type\":\"string\",\"nullable\":true,\"metadata\":{}},{\"name\":\"height\",\"type\":\"string\",\"nullable\":true,\"metadata\":{}},{\"name\":\"seating_capacity\",\"type\":\"string\",\"nullable\":true,\"metadata\":{}},{\"name\":\"fuel_tank_capacity\",\"type\":\"string\",\"nullable\":true,\"metadata\":{}},{\"name\":\"100k_miles\",\"type\":\"boolean\",\"nullable\":true,\"metadata\":{}}]}"
         ],
         null
        ],
        [
         [
          true,
          1716247161000,
          "part-00000-26e6a466-1c12-405c-80ed-62a0c5ebdd2d-c000.snappy.parquet",
          68746,
          "{\"numRecords\":2059,\"minValues\":{\"make\":\"Audi\",\"model\":\"2 Series Gran Coupe 220d M Sport\",\"price\":\"100000\",\"year\":\"1988\",\"kilometer\":0,\"fuel_type\":\"CNG\",\"transmission\":\"Automatic\",\"location\":\"Agra\",\"color\":\"Beige\",\"owner\":\"4 or More\",\"seller_type\":\"Commercial Registration\",\"engine\":\"1047 cc\",\"max_power\":\"100 bhp @ 3600 rpm\",\"max_torque\":\"101 Nm @ 3000 rpm\",\"drivetrain\":\"AWD\",\"length\":\"3099\",\"width\":\"1475\",\"height\":\"1165\",\"seating_capacity\":\"2\",\"fuel_tank_capacity\":\"100\"},\"maxValues\":{\"make\":\"Volvo\",\"model\":\"i20 Sportz 1.4 CRDI\",\"price\":\"999000\",\"year\":\"2022\",\"kilometer\":2000000,\"fuel_type\":\"Petrol + LPG\",\"transmission\":\"Manual\",\"location\":\"Zirakpur\",\"color\":\"Yellow\",\"owner\":\"UnRegistered Car\",\"seller_type\":\"Individual\",\"engine\":\"999 cc\",\"max_power\":\"99 bhp @ 5000 rpm\",\"max_torque\":\"99@2800\",\"drivetrain\":\"RWD\",\"length\":\"5569\",\"width\":\"2220\",\"height\":\"1995\",\"seating_capacity\":\"8\",\"fuel_tank_capacity\":\"95\"},\"nullCount\":{\"make\":0,\"model\":0,\"price\":0,\"year\":0,\"kilometer\":10,\"fuel_type\":0,\"transmission\":0,\"location\":0,\"color\":0,\"owner\":0,\"seller_type\":0,\"engine\":80,\"max_power\":80,\"max_torque\":80,\"drivetrain\":136,\"length\":65,\"width\":65,\"height\":65,\"seating_capacity\":69,\"fuel_tank_capacity\":117,\"100k_miles\":0}}",
          [
           "1716247161000000",
           "1716247161000000",
           "1716247161000000",
           "268435456"
          ]
         ],
         null,
         null,
         null
        ],
        [
         null,
         null,
         null,
         [
          true,
          1716247161704,
          true,
          "part-00000-f3095cbe-3ac3-45e7-99a0-9eadeec303cd-c000.snappy.parquet",
          69682,
          [
           "1716240669000000",
           "1716240669000000",
           "1716240669000000",
           "268435456"
          ]
         ]
        ]
       ],
       "datasetInfos": [],
       "dbfsResultPath": null,
       "isJsonSchema": true,
       "metadata": {},
       "overflow": false,
       "plotOptions": {
        "customPlotOptions": {},
        "displayType": "table",
        "pivotAggregation": null,
        "pivotColumns": null,
        "xColumns": null,
        "yColumns": null
       },
       "removedWidgets": [],
       "schema": [
        {
         "metadata": "{}",
         "name": "add",
         "type": "{\"type\":\"struct\",\"fields\":[{\"name\":\"dataChange\",\"type\":\"boolean\",\"nullable\":true,\"metadata\":{}},{\"name\":\"modificationTime\",\"type\":\"long\",\"nullable\":true,\"metadata\":{}},{\"name\":\"path\",\"type\":\"string\",\"nullable\":true,\"metadata\":{}},{\"name\":\"size\",\"type\":\"long\",\"nullable\":true,\"metadata\":{}},{\"name\":\"stats\",\"type\":\"string\",\"nullable\":true,\"metadata\":{}},{\"name\":\"tags\",\"type\":{\"type\":\"struct\",\"fields\":[{\"name\":\"INSERTION_TIME\",\"type\":\"string\",\"nullable\":true,\"metadata\":{}},{\"name\":\"MAX_INSERTION_TIME\",\"type\":\"string\",\"nullable\":true,\"metadata\":{}},{\"name\":\"MIN_INSERTION_TIME\",\"type\":\"string\",\"nullable\":true,\"metadata\":{}},{\"name\":\"OPTIMIZE_TARGET_SIZE\",\"type\":\"string\",\"nullable\":true,\"metadata\":{}}]},\"nullable\":true,\"metadata\":{}}]}"
        },
        {
         "metadata": "{}",
         "name": "commitInfo",
         "type": "{\"type\":\"struct\",\"fields\":[{\"name\":\"clusterId\",\"type\":\"string\",\"nullable\":true,\"metadata\":{}},{\"name\":\"engineInfo\",\"type\":\"string\",\"nullable\":true,\"metadata\":{}},{\"name\":\"isBlindAppend\",\"type\":\"boolean\",\"nullable\":true,\"metadata\":{}},{\"name\":\"isolationLevel\",\"type\":\"string\",\"nullable\":true,\"metadata\":{}},{\"name\":\"notebook\",\"type\":{\"type\":\"struct\",\"fields\":[{\"name\":\"notebookId\",\"type\":\"string\",\"nullable\":true,\"metadata\":{}}]},\"nullable\":true,\"metadata\":{}},{\"name\":\"operation\",\"type\":\"string\",\"nullable\":true,\"metadata\":{}},{\"name\":\"operationMetrics\",\"type\":{\"type\":\"struct\",\"fields\":[{\"name\":\"numFiles\",\"type\":\"string\",\"nullable\":true,\"metadata\":{}},{\"name\":\"numOutputBytes\",\"type\":\"string\",\"nullable\":true,\"metadata\":{}},{\"name\":\"numOutputRows\",\"type\":\"string\",\"nullable\":true,\"metadata\":{}}]},\"nullable\":true,\"metadata\":{}},{\"name\":\"operationParameters\",\"type\":{\"type\":\"struct\",\"fields\":[{\"name\":\"mode\",\"type\":\"string\",\"nullable\":true,\"metadata\":{}},{\"name\":\"partitionBy\",\"type\":\"string\",\"nullable\":true,\"metadata\":{}}]},\"nullable\":true,\"metadata\":{}},{\"name\":\"readVersion\",\"type\":\"long\",\"nullable\":true,\"metadata\":{}},{\"name\":\"timestamp\",\"type\":\"long\",\"nullable\":true,\"metadata\":{}},{\"name\":\"txnId\",\"type\":\"string\",\"nullable\":true,\"metadata\":{}},{\"name\":\"userId\",\"type\":\"string\",\"nullable\":true,\"metadata\":{}},{\"name\":\"userName\",\"type\":\"string\",\"nullable\":true,\"metadata\":{}}]}"
        },
        {
         "metadata": "{}",
         "name": "metaData",
         "type": "{\"type\":\"struct\",\"fields\":[{\"name\":\"createdTime\",\"type\":\"long\",\"nullable\":true,\"metadata\":{}},{\"name\":\"format\",\"type\":{\"type\":\"struct\",\"fields\":[{\"name\":\"provider\",\"type\":\"string\",\"nullable\":true,\"metadata\":{}}]},\"nullable\":true,\"metadata\":{}},{\"name\":\"id\",\"type\":\"string\",\"nullable\":true,\"metadata\":{}},{\"name\":\"partitionColumns\",\"type\":{\"type\":\"array\",\"elementType\":\"string\",\"containsNull\":true},\"nullable\":true,\"metadata\":{}},{\"name\":\"schemaString\",\"type\":\"string\",\"nullable\":true,\"metadata\":{}}]}"
        },
        {
         "metadata": "{}",
         "name": "remove",
         "type": "{\"type\":\"struct\",\"fields\":[{\"name\":\"dataChange\",\"type\":\"boolean\",\"nullable\":true,\"metadata\":{}},{\"name\":\"deletionTimestamp\",\"type\":\"long\",\"nullable\":true,\"metadata\":{}},{\"name\":\"extendedFileMetadata\",\"type\":\"boolean\",\"nullable\":true,\"metadata\":{}},{\"name\":\"path\",\"type\":\"string\",\"nullable\":true,\"metadata\":{}},{\"name\":\"size\",\"type\":\"long\",\"nullable\":true,\"metadata\":{}},{\"name\":\"tags\",\"type\":{\"type\":\"struct\",\"fields\":[{\"name\":\"INSERTION_TIME\",\"type\":\"string\",\"nullable\":true,\"metadata\":{}},{\"name\":\"MAX_INSERTION_TIME\",\"type\":\"string\",\"nullable\":true,\"metadata\":{}},{\"name\":\"MIN_INSERTION_TIME\",\"type\":\"string\",\"nullable\":true,\"metadata\":{}},{\"name\":\"OPTIMIZE_TARGET_SIZE\",\"type\":\"string\",\"nullable\":true,\"metadata\":{}}]},\"nullable\":true,\"metadata\":{}}]}"
        }
       ],
       "type": "table"
      }
     },
     "output_type": "display_data"
    }
   ],
   "source": [
    "display(spark.read.json(f\"{save_path}/_delta_log/00000000000000000001.json\"))"
   ]
  },
  {
   "cell_type": "markdown",
   "metadata": {
    "application/vnd.databricks.v1+cell": {
     "cellMetadata": {},
     "inputWidgets": {},
     "nuid": "723d068a-655a-4fb6-8d11-88ffc5c316d1",
     "showTitle": false,
     "title": ""
    }
   },
   "source": [
    "Inspecting the transaction log above, we can see that the datatype for the kilometer column has changed in the 'metaData' column of the transaction file. We also see that the '100k_miles' has been added to the metaData column as well. If changing the datatype had not executed completely before we saved our file, the transaction log would not have been updated. In this way, the transaction log keeps a record of completed actions and ensures atomicity."
   ]
  },
  {
   "cell_type": "markdown",
   "metadata": {
    "application/vnd.databricks.v1+cell": {
     "cellMetadata": {},
     "inputWidgets": {},
     "nuid": "34eda5bc-421c-43f8-857e-e405758a45e7",
     "showTitle": false,
     "title": ""
    }
   },
   "source": [
    "#### <img src = 'https://www.svgrepo.com/show/499853/idea.svg' style=\"height: 60px; margin: 5px; padding: 5px\"/> Consistency\n",
    "\n",
    "Consistency, or the 'C' in ACID, is extremely important when working with large datasets and collaborating with multiple users. This becomes especially important in practical settings, when one dataset is being used across teams and departments. We need to ensure everyone is working off of the same data so that the work being done is accurate and up to date. \n",
    "\n",
    "Based on our earlier discussions, we know that the transaction log is what is used to update Delta tables. Since the transaction log is the single source of truth, we know that any updates made to the table will be the same across the board. However, if there are multiple users writing to the table, how does the transaction log know which changes to commit and in which order? \n",
    "\n",
    "It is safe to assume that with petabytes of data, two users will be working on separate parts at any given time. This is, of course, completely okay. My work and your work will not interfere if we are looking at completely different parts of the data. The problem arises only when we need the same part of the data at the same time.\n",
    "\n",
    "Lets say you and I are both out grocery shopping and we both really really want to make pasta. If there are a lot of boxes of pasta on the shelf, we will happily grab one and be on our way. However, if there is only one box left and we both reach for it at the same time ... well, that would be awkward. \n",
    "\n",
    "Similarly, when handling transactions on a Delta Table, we can assume that most of the time, there is no problem. This method of control is known as <b>_optimistic concurrency_</b>. Of course, conflicts can still arise. How Delta Lake handles these conflicts brings us to the concept of isolation, the next letter in our ACID transaction. \n"
   ]
  },
  {
   "cell_type": "markdown",
   "metadata": {
    "application/vnd.databricks.v1+cell": {
     "cellMetadata": {},
     "inputWidgets": {},
     "nuid": "17fd866f-215e-48a2-a986-f294c4bd7046",
     "showTitle": false,
     "title": ""
    }
   },
   "source": [
    "####  <img src = 'https://www.svgrepo.com/show/499853/idea.svg' style=\"height: 60px; margin: 5px; padding: 5px\"/> Isolation\n",
    "\n",
    "Unfortunately, in the case of our grocery store example, one of us will have a pasta-less dinner. The same is not true, however, for ACID compliant transactions. Isolation ensures that the simultaneous actions by different users do not impact each other. For isolation to hold, we need a way to determine how to commit transactions to our transaction log. \n",
    "\n",
    "Delta Lake handles cases of simultaneous operations by treating them as mutually exclusive. If two write operations by different users on the same section of data happen simultaneously, the transaction log will commit one of the two operations as the next transaction, lets sat 000001.json. \n",
    "\n",
    "However, User 2 doesn't have to worry. Rather than throw an error for User 2, the Delta Engine checks to see if there are any new commits since the last operation and updates the users table to reflect those changes. Then, it commits User 2's commit on the updated table. This commit, which originally happened at the same time as the commit recorded in 000001.json, is saved as 000002.json. \n",
    "\n",
    "As stated in <a href=\"https://www.databricks.com/blog/2019/08/21/diving-into-delta-lake-unpacking-the-transaction-log.html\" target=\"_blank\">  this databricks post*,</a> the process proceeds like this:\n",
    "- Record the starting table version.\n",
    "- Record reads/writes.\n",
    "- Attempt a commit.\n",
    "- If someone else wins, check whether anything you read has changed.\n",
    "- Repeat.\n",
    "\n",
    "By implementing optimistic concurrency and treating all commits as mutually exclusive, the Delta Engine ensures isolation of operations. \n",
    "\n",
    "*Taken from the linked Databricks post"
   ]
  },
  {
   "cell_type": "markdown",
   "metadata": {
    "application/vnd.databricks.v1+cell": {
     "cellMetadata": {},
     "inputWidgets": {},
     "nuid": "bd8a373e-2c9f-4185-81eb-0585977a80c2",
     "showTitle": false,
     "title": ""
    }
   },
   "source": [
    "####  <img src = 'https://www.svgrepo.com/show/499853/idea.svg' style=\"height: 60px; margin: 5px; padding: 5px\"/>  Durability\n",
    "\n",
    "Durability! The last part of our ACID compliant transaction. Durability refers to the fact that once a change has been made to the table, it is not overwritten. The Delta Lake Engine ensures durable transactions by keeping a record of the data in time. In other words, Delta Tables are automatically assigned versions and any of the previous versions can be easily accessed. This ensures not only durability but also reproducibility in experiments and analysis. It is especially important for machine learning applications, where data may change over time. \n",
    "\n",
    "Two ways to access previous records of the data are \n",
    "* Using a time stamp\n",
    "* Using the version number\n",
    "\n",
    "Unfortunately, we do not have multiple days of data and transactions to display but we have included it here for completeness."
   ]
  },
  {
   "cell_type": "code",
   "execution_count": 0,
   "metadata": {
    "application/vnd.databricks.v1+cell": {
     "cellMetadata": {
      "byteLimit": 2048000,
      "rowLimit": 10000
     },
     "inputWidgets": {},
     "nuid": "dfd9ffa9-78fc-438b-8da6-baf481fb7330",
     "showTitle": false,
     "title": ""
    }
   },
   "outputs": [
    {
     "output_type": "display_data",
     "data": {
      "text/plain": [
       "\u001B[0;31m---------------------------------------------------------------------------\u001B[0m\n",
       "\u001B[0;31mAnalysisException\u001B[0m                         Traceback (most recent call last)\n",
       "File \u001B[0;32m<command-3488725691099848>:2\u001B[0m\n",
       "\u001B[1;32m      1\u001B[0m \u001B[38;5;66;03m## time stamp\u001B[39;00m\n",
       "\u001B[0;32m----> 2\u001B[0m table1 \u001B[38;5;241m=\u001B[39m \u001B[43mspark\u001B[49m\u001B[38;5;241;43m.\u001B[39;49m\u001B[43mread\u001B[49m\u001B[38;5;241;43m.\u001B[39;49m\u001B[43mformat\u001B[49m\u001B[43m(\u001B[49m\u001B[38;5;124;43m\"\u001B[39;49m\u001B[38;5;124;43mdelta\u001B[39;49m\u001B[38;5;124;43m\"\u001B[39;49m\u001B[43m)\u001B[49m\u001B[38;5;241;43m.\u001B[39;49m\u001B[43moption\u001B[49m\u001B[43m(\u001B[49m\u001B[38;5;124;43m\"\u001B[39;49m\u001B[38;5;124;43mtimestampAsOf\u001B[39;49m\u001B[38;5;124;43m\"\u001B[39;49m\u001B[43m,\u001B[49m\u001B[43m \u001B[49m\u001B[38;5;124;43m\"\u001B[39;49m\u001B[38;5;124;43m2024-20-05\u001B[39;49m\u001B[38;5;124;43m\"\u001B[39;49m\u001B[43m)\u001B[49m\u001B[38;5;241;43m.\u001B[39;49m\u001B[43mload\u001B[49m\u001B[43m(\u001B[49m\u001B[43msave_path\u001B[49m\u001B[43m)\u001B[49m\n",
       "\n",
       "File \u001B[0;32m/databricks/spark/python/pyspark/instrumentation_utils.py:48\u001B[0m, in \u001B[0;36m_wrap_function.<locals>.wrapper\u001B[0;34m(*args, **kwargs)\u001B[0m\n",
       "\u001B[1;32m     46\u001B[0m start \u001B[38;5;241m=\u001B[39m time\u001B[38;5;241m.\u001B[39mperf_counter()\n",
       "\u001B[1;32m     47\u001B[0m \u001B[38;5;28;01mtry\u001B[39;00m:\n",
       "\u001B[0;32m---> 48\u001B[0m     res \u001B[38;5;241m=\u001B[39m \u001B[43mfunc\u001B[49m\u001B[43m(\u001B[49m\u001B[38;5;241;43m*\u001B[39;49m\u001B[43margs\u001B[49m\u001B[43m,\u001B[49m\u001B[43m \u001B[49m\u001B[38;5;241;43m*\u001B[39;49m\u001B[38;5;241;43m*\u001B[39;49m\u001B[43mkwargs\u001B[49m\u001B[43m)\u001B[49m\n",
       "\u001B[1;32m     49\u001B[0m     logger\u001B[38;5;241m.\u001B[39mlog_success(\n",
       "\u001B[1;32m     50\u001B[0m         module_name, class_name, function_name, time\u001B[38;5;241m.\u001B[39mperf_counter() \u001B[38;5;241m-\u001B[39m start, signature\n",
       "\u001B[1;32m     51\u001B[0m     )\n",
       "\u001B[1;32m     52\u001B[0m     \u001B[38;5;28;01mreturn\u001B[39;00m res\n",
       "\n",
       "File \u001B[0;32m/databricks/spark/python/pyspark/sql/readwriter.py:302\u001B[0m, in \u001B[0;36mDataFrameReader.load\u001B[0;34m(self, path, format, schema, **options)\u001B[0m\n",
       "\u001B[1;32m    300\u001B[0m \u001B[38;5;28mself\u001B[39m\u001B[38;5;241m.\u001B[39moptions(\u001B[38;5;241m*\u001B[39m\u001B[38;5;241m*\u001B[39moptions)\n",
       "\u001B[1;32m    301\u001B[0m \u001B[38;5;28;01mif\u001B[39;00m \u001B[38;5;28misinstance\u001B[39m(path, \u001B[38;5;28mstr\u001B[39m):\n",
       "\u001B[0;32m--> 302\u001B[0m     \u001B[38;5;28;01mreturn\u001B[39;00m \u001B[38;5;28mself\u001B[39m\u001B[38;5;241m.\u001B[39m_df(\u001B[38;5;28;43mself\u001B[39;49m\u001B[38;5;241;43m.\u001B[39;49m\u001B[43m_jreader\u001B[49m\u001B[38;5;241;43m.\u001B[39;49m\u001B[43mload\u001B[49m\u001B[43m(\u001B[49m\u001B[43mpath\u001B[49m\u001B[43m)\u001B[49m)\n",
       "\u001B[1;32m    303\u001B[0m \u001B[38;5;28;01melif\u001B[39;00m path \u001B[38;5;129;01mis\u001B[39;00m \u001B[38;5;129;01mnot\u001B[39;00m \u001B[38;5;28;01mNone\u001B[39;00m:\n",
       "\u001B[1;32m    304\u001B[0m     \u001B[38;5;28;01mif\u001B[39;00m \u001B[38;5;28mtype\u001B[39m(path) \u001B[38;5;241m!=\u001B[39m \u001B[38;5;28mlist\u001B[39m:\n",
       "\n",
       "File \u001B[0;32m/databricks/spark/python/lib/py4j-0.10.9.5-src.zip/py4j/java_gateway.py:1321\u001B[0m, in \u001B[0;36mJavaMember.__call__\u001B[0;34m(self, *args)\u001B[0m\n",
       "\u001B[1;32m   1315\u001B[0m command \u001B[38;5;241m=\u001B[39m proto\u001B[38;5;241m.\u001B[39mCALL_COMMAND_NAME \u001B[38;5;241m+\u001B[39m\\\n",
       "\u001B[1;32m   1316\u001B[0m     \u001B[38;5;28mself\u001B[39m\u001B[38;5;241m.\u001B[39mcommand_header \u001B[38;5;241m+\u001B[39m\\\n",
       "\u001B[1;32m   1317\u001B[0m     args_command \u001B[38;5;241m+\u001B[39m\\\n",
       "\u001B[1;32m   1318\u001B[0m     proto\u001B[38;5;241m.\u001B[39mEND_COMMAND_PART\n",
       "\u001B[1;32m   1320\u001B[0m answer \u001B[38;5;241m=\u001B[39m \u001B[38;5;28mself\u001B[39m\u001B[38;5;241m.\u001B[39mgateway_client\u001B[38;5;241m.\u001B[39msend_command(command)\n",
       "\u001B[0;32m-> 1321\u001B[0m return_value \u001B[38;5;241m=\u001B[39m \u001B[43mget_return_value\u001B[49m\u001B[43m(\u001B[49m\n",
       "\u001B[1;32m   1322\u001B[0m \u001B[43m    \u001B[49m\u001B[43manswer\u001B[49m\u001B[43m,\u001B[49m\u001B[43m \u001B[49m\u001B[38;5;28;43mself\u001B[39;49m\u001B[38;5;241;43m.\u001B[39;49m\u001B[43mgateway_client\u001B[49m\u001B[43m,\u001B[49m\u001B[43m \u001B[49m\u001B[38;5;28;43mself\u001B[39;49m\u001B[38;5;241;43m.\u001B[39;49m\u001B[43mtarget_id\u001B[49m\u001B[43m,\u001B[49m\u001B[43m \u001B[49m\u001B[38;5;28;43mself\u001B[39;49m\u001B[38;5;241;43m.\u001B[39;49m\u001B[43mname\u001B[49m\u001B[43m)\u001B[49m\n",
       "\u001B[1;32m   1324\u001B[0m \u001B[38;5;28;01mfor\u001B[39;00m temp_arg \u001B[38;5;129;01min\u001B[39;00m temp_args:\n",
       "\u001B[1;32m   1325\u001B[0m     temp_arg\u001B[38;5;241m.\u001B[39m_detach()\n",
       "\n",
       "File \u001B[0;32m/databricks/spark/python/pyspark/errors/exceptions.py:234\u001B[0m, in \u001B[0;36mcapture_sql_exception.<locals>.deco\u001B[0;34m(*a, **kw)\u001B[0m\n",
       "\u001B[1;32m    230\u001B[0m converted \u001B[38;5;241m=\u001B[39m convert_exception(e\u001B[38;5;241m.\u001B[39mjava_exception)\n",
       "\u001B[1;32m    231\u001B[0m \u001B[38;5;28;01mif\u001B[39;00m \u001B[38;5;129;01mnot\u001B[39;00m \u001B[38;5;28misinstance\u001B[39m(converted, UnknownException):\n",
       "\u001B[1;32m    232\u001B[0m     \u001B[38;5;66;03m# Hide where the exception came from that shows a non-Pythonic\u001B[39;00m\n",
       "\u001B[1;32m    233\u001B[0m     \u001B[38;5;66;03m# JVM exception message.\u001B[39;00m\n",
       "\u001B[0;32m--> 234\u001B[0m     \u001B[38;5;28;01mraise\u001B[39;00m converted \u001B[38;5;28;01mfrom\u001B[39;00m \u001B[38;5;28mNone\u001B[39m\n",
       "\u001B[1;32m    235\u001B[0m \u001B[38;5;28;01melse\u001B[39;00m:\n",
       "\u001B[1;32m    236\u001B[0m     \u001B[38;5;28;01mraise\u001B[39;00m\n",
       "\n",
       "\u001B[0;31mAnalysisException\u001B[0m: The provided timestamp (2024-05-20 00:00:00.0) is before the earliest version available to this\n",
       "table (2024-05-20 21:31:15.0). Please use a timestamp after 2024-05-20 21:31:15.\n",
       "         "
      ]
     },
     "metadata": {
      "application/vnd.databricks.v1+output": {
       "arguments": {},
       "data": "\u001B[0;31m---------------------------------------------------------------------------\u001B[0m\n\u001B[0;31mAnalysisException\u001B[0m                         Traceback (most recent call last)\nFile \u001B[0;32m<command-3488725691099848>:2\u001B[0m\n\u001B[1;32m      1\u001B[0m \u001B[38;5;66;03m## time stamp\u001B[39;00m\n\u001B[0;32m----> 2\u001B[0m table1 \u001B[38;5;241m=\u001B[39m \u001B[43mspark\u001B[49m\u001B[38;5;241;43m.\u001B[39;49m\u001B[43mread\u001B[49m\u001B[38;5;241;43m.\u001B[39;49m\u001B[43mformat\u001B[49m\u001B[43m(\u001B[49m\u001B[38;5;124;43m\"\u001B[39;49m\u001B[38;5;124;43mdelta\u001B[39;49m\u001B[38;5;124;43m\"\u001B[39;49m\u001B[43m)\u001B[49m\u001B[38;5;241;43m.\u001B[39;49m\u001B[43moption\u001B[49m\u001B[43m(\u001B[49m\u001B[38;5;124;43m\"\u001B[39;49m\u001B[38;5;124;43mtimestampAsOf\u001B[39;49m\u001B[38;5;124;43m\"\u001B[39;49m\u001B[43m,\u001B[49m\u001B[43m \u001B[49m\u001B[38;5;124;43m\"\u001B[39;49m\u001B[38;5;124;43m2024-20-05\u001B[39;49m\u001B[38;5;124;43m\"\u001B[39;49m\u001B[43m)\u001B[49m\u001B[38;5;241;43m.\u001B[39;49m\u001B[43mload\u001B[49m\u001B[43m(\u001B[49m\u001B[43msave_path\u001B[49m\u001B[43m)\u001B[49m\n\nFile \u001B[0;32m/databricks/spark/python/pyspark/instrumentation_utils.py:48\u001B[0m, in \u001B[0;36m_wrap_function.<locals>.wrapper\u001B[0;34m(*args, **kwargs)\u001B[0m\n\u001B[1;32m     46\u001B[0m start \u001B[38;5;241m=\u001B[39m time\u001B[38;5;241m.\u001B[39mperf_counter()\n\u001B[1;32m     47\u001B[0m \u001B[38;5;28;01mtry\u001B[39;00m:\n\u001B[0;32m---> 48\u001B[0m     res \u001B[38;5;241m=\u001B[39m \u001B[43mfunc\u001B[49m\u001B[43m(\u001B[49m\u001B[38;5;241;43m*\u001B[39;49m\u001B[43margs\u001B[49m\u001B[43m,\u001B[49m\u001B[43m \u001B[49m\u001B[38;5;241;43m*\u001B[39;49m\u001B[38;5;241;43m*\u001B[39;49m\u001B[43mkwargs\u001B[49m\u001B[43m)\u001B[49m\n\u001B[1;32m     49\u001B[0m     logger\u001B[38;5;241m.\u001B[39mlog_success(\n\u001B[1;32m     50\u001B[0m         module_name, class_name, function_name, time\u001B[38;5;241m.\u001B[39mperf_counter() \u001B[38;5;241m-\u001B[39m start, signature\n\u001B[1;32m     51\u001B[0m     )\n\u001B[1;32m     52\u001B[0m     \u001B[38;5;28;01mreturn\u001B[39;00m res\n\nFile \u001B[0;32m/databricks/spark/python/pyspark/sql/readwriter.py:302\u001B[0m, in \u001B[0;36mDataFrameReader.load\u001B[0;34m(self, path, format, schema, **options)\u001B[0m\n\u001B[1;32m    300\u001B[0m \u001B[38;5;28mself\u001B[39m\u001B[38;5;241m.\u001B[39moptions(\u001B[38;5;241m*\u001B[39m\u001B[38;5;241m*\u001B[39moptions)\n\u001B[1;32m    301\u001B[0m \u001B[38;5;28;01mif\u001B[39;00m \u001B[38;5;28misinstance\u001B[39m(path, \u001B[38;5;28mstr\u001B[39m):\n\u001B[0;32m--> 302\u001B[0m     \u001B[38;5;28;01mreturn\u001B[39;00m \u001B[38;5;28mself\u001B[39m\u001B[38;5;241m.\u001B[39m_df(\u001B[38;5;28;43mself\u001B[39;49m\u001B[38;5;241;43m.\u001B[39;49m\u001B[43m_jreader\u001B[49m\u001B[38;5;241;43m.\u001B[39;49m\u001B[43mload\u001B[49m\u001B[43m(\u001B[49m\u001B[43mpath\u001B[49m\u001B[43m)\u001B[49m)\n\u001B[1;32m    303\u001B[0m \u001B[38;5;28;01melif\u001B[39;00m path \u001B[38;5;129;01mis\u001B[39;00m \u001B[38;5;129;01mnot\u001B[39;00m \u001B[38;5;28;01mNone\u001B[39;00m:\n\u001B[1;32m    304\u001B[0m     \u001B[38;5;28;01mif\u001B[39;00m \u001B[38;5;28mtype\u001B[39m(path) \u001B[38;5;241m!=\u001B[39m \u001B[38;5;28mlist\u001B[39m:\n\nFile \u001B[0;32m/databricks/spark/python/lib/py4j-0.10.9.5-src.zip/py4j/java_gateway.py:1321\u001B[0m, in \u001B[0;36mJavaMember.__call__\u001B[0;34m(self, *args)\u001B[0m\n\u001B[1;32m   1315\u001B[0m command \u001B[38;5;241m=\u001B[39m proto\u001B[38;5;241m.\u001B[39mCALL_COMMAND_NAME \u001B[38;5;241m+\u001B[39m\\\n\u001B[1;32m   1316\u001B[0m     \u001B[38;5;28mself\u001B[39m\u001B[38;5;241m.\u001B[39mcommand_header \u001B[38;5;241m+\u001B[39m\\\n\u001B[1;32m   1317\u001B[0m     args_command \u001B[38;5;241m+\u001B[39m\\\n\u001B[1;32m   1318\u001B[0m     proto\u001B[38;5;241m.\u001B[39mEND_COMMAND_PART\n\u001B[1;32m   1320\u001B[0m answer \u001B[38;5;241m=\u001B[39m \u001B[38;5;28mself\u001B[39m\u001B[38;5;241m.\u001B[39mgateway_client\u001B[38;5;241m.\u001B[39msend_command(command)\n\u001B[0;32m-> 1321\u001B[0m return_value \u001B[38;5;241m=\u001B[39m \u001B[43mget_return_value\u001B[49m\u001B[43m(\u001B[49m\n\u001B[1;32m   1322\u001B[0m \u001B[43m    \u001B[49m\u001B[43manswer\u001B[49m\u001B[43m,\u001B[49m\u001B[43m \u001B[49m\u001B[38;5;28;43mself\u001B[39;49m\u001B[38;5;241;43m.\u001B[39;49m\u001B[43mgateway_client\u001B[49m\u001B[43m,\u001B[49m\u001B[43m \u001B[49m\u001B[38;5;28;43mself\u001B[39;49m\u001B[38;5;241;43m.\u001B[39;49m\u001B[43mtarget_id\u001B[49m\u001B[43m,\u001B[49m\u001B[43m \u001B[49m\u001B[38;5;28;43mself\u001B[39;49m\u001B[38;5;241;43m.\u001B[39;49m\u001B[43mname\u001B[49m\u001B[43m)\u001B[49m\n\u001B[1;32m   1324\u001B[0m \u001B[38;5;28;01mfor\u001B[39;00m temp_arg \u001B[38;5;129;01min\u001B[39;00m temp_args:\n\u001B[1;32m   1325\u001B[0m     temp_arg\u001B[38;5;241m.\u001B[39m_detach()\n\nFile \u001B[0;32m/databricks/spark/python/pyspark/errors/exceptions.py:234\u001B[0m, in \u001B[0;36mcapture_sql_exception.<locals>.deco\u001B[0;34m(*a, **kw)\u001B[0m\n\u001B[1;32m    230\u001B[0m converted \u001B[38;5;241m=\u001B[39m convert_exception(e\u001B[38;5;241m.\u001B[39mjava_exception)\n\u001B[1;32m    231\u001B[0m \u001B[38;5;28;01mif\u001B[39;00m \u001B[38;5;129;01mnot\u001B[39;00m \u001B[38;5;28misinstance\u001B[39m(converted, UnknownException):\n\u001B[1;32m    232\u001B[0m     \u001B[38;5;66;03m# Hide where the exception came from that shows a non-Pythonic\u001B[39;00m\n\u001B[1;32m    233\u001B[0m     \u001B[38;5;66;03m# JVM exception message.\u001B[39;00m\n\u001B[0;32m--> 234\u001B[0m     \u001B[38;5;28;01mraise\u001B[39;00m converted \u001B[38;5;28;01mfrom\u001B[39;00m \u001B[38;5;28mNone\u001B[39m\n\u001B[1;32m    235\u001B[0m \u001B[38;5;28;01melse\u001B[39;00m:\n\u001B[1;32m    236\u001B[0m     \u001B[38;5;28;01mraise\u001B[39;00m\n\n\u001B[0;31mAnalysisException\u001B[0m: The provided timestamp (2024-05-20 00:00:00.0) is before the earliest version available to this\ntable (2024-05-20 21:31:15.0). Please use a timestamp after 2024-05-20 21:31:15.\n         ",
       "errorSummary": "<span class='ansi-red-fg'>AnalysisException</span>: The provided timestamp (2024-05-20 00:00:00.0) is before the earliest version available to this\ntable (2024-05-20 21:31:15.0). Please use a timestamp after 2024-05-20 21:31:15.\n         ",
       "errorTraceType": "ansi",
       "metadata": {},
       "type": "ipynbError"
      }
     },
     "output_type": "display_data"
    }
   ],
   "source": [
    "## time stamp\n",
    "table1 = spark.read.format(\"delta\").option(\"timestampAsOf\", \"2024-05-20\").load(save_path)"
   ]
  },
  {
   "cell_type": "code",
   "execution_count": 0,
   "metadata": {
    "application/vnd.databricks.v1+cell": {
     "cellMetadata": {
      "byteLimit": 2048000,
      "rowLimit": 10000
     },
     "inputWidgets": {},
     "nuid": "91b1f15f-37bb-4535-8a2b-a42d9553e646",
     "showTitle": false,
     "title": ""
    }
   },
   "outputs": [
    {
     "output_type": "display_data",
     "data": {
      "text/html": [
       "<style scoped>\n",
       "  .table-result-container {\n",
       "    max-height: 300px;\n",
       "    overflow: auto;\n",
       "  }\n",
       "  table, th, td {\n",
       "    border: 1px solid black;\n",
       "    border-collapse: collapse;\n",
       "  }\n",
       "  th, td {\n",
       "    padding: 5px;\n",
       "  }\n",
       "  th {\n",
       "    text-align: left;\n",
       "  }\n",
       "</style><div class='table-result-container'><table class='table-result'><thead style='background-color: white'><tr><th>make</th><th>model</th><th>price</th><th>year</th><th>kilometer</th><th>fuel_type</th><th>transmission</th><th>location</th><th>color</th><th>owner</th><th>seller_type</th><th>engine</th><th>max_power</th><th>max_torque</th><th>drivetrain</th><th>length</th><th>width</th><th>height</th><th>seating_capacity</th><th>fuel_tank_capacity</th></tr></thead><tbody><tr><td>Honda</td><td>Amaze 1.2 VX i-VTEC</td><td>505000</td><td>2017</td><td>87150</td><td>Petrol</td><td>Manual</td><td>Pune</td><td>Grey</td><td>First</td><td>Corporate</td><td>1198 cc</td><td>87 bhp @ 6000 rpm</td><td>109 Nm @ 4500 rpm</td><td>FWD</td><td>3990</td><td>1680</td><td>1505</td><td>5</td><td>35</td></tr><tr><td>Maruti Suzuki</td><td>Swift DZire VDI</td><td>450000</td><td>2014</td><td>75000</td><td>Diesel</td><td>Manual</td><td>Ludhiana</td><td>White</td><td>Second</td><td>Individual</td><td>1248 cc</td><td>74 bhp @ 4000 rpm</td><td>190 Nm @ 2000 rpm</td><td>FWD</td><td>3995</td><td>1695</td><td>1555</td><td>5</td><td>42</td></tr><tr><td>Hyundai</td><td>i10 Magna 1.2 Kappa2</td><td>220000</td><td>2011</td><td>67000</td><td>Petrol</td><td>Manual</td><td>Lucknow</td><td>Maroon</td><td>First</td><td>Individual</td><td>1197 cc</td><td>79 bhp @ 6000 rpm</td><td>112.7619 Nm @ 4000 rpm</td><td>FWD</td><td>3585</td><td>1595</td><td>1550</td><td>5</td><td>35</td></tr><tr><td>Toyota</td><td>Glanza G</td><td>799000</td><td>2019</td><td>37500</td><td>Petrol</td><td>Manual</td><td>Mangalore</td><td>Red</td><td>First</td><td>Individual</td><td>1197 cc</td><td>82 bhp @ 6000 rpm</td><td>113 Nm @ 4200 rpm</td><td>FWD</td><td>3995</td><td>1745</td><td>1510</td><td>5</td><td>37</td></tr><tr><td>Toyota</td><td>Innova 2.4 VX 7 STR [2016-2020]</td><td>1950000</td><td>2018</td><td>69000</td><td>Diesel</td><td>Manual</td><td>Mumbai</td><td>Grey</td><td>First</td><td>Individual</td><td>2393 cc</td><td>148 bhp @ 3400 rpm</td><td>343 Nm @ 1400 rpm</td><td>RWD</td><td>4735</td><td>1830</td><td>1795</td><td>7</td><td>55</td></tr></tbody></table></div>"
      ]
     },
     "metadata": {
      "application/vnd.databricks.v1+output": {
       "addedWidgets": {},
       "aggData": [],
       "aggError": "",
       "aggOverflow": false,
       "aggSchema": [],
       "aggSeriesLimitReached": false,
       "aggType": "",
       "arguments": {},
       "columnCustomDisplayInfos": {},
       "data": [
        [
         "Honda",
         "Amaze 1.2 VX i-VTEC",
         "505000",
         "2017",
         "87150",
         "Petrol",
         "Manual",
         "Pune",
         "Grey",
         "First",
         "Corporate",
         "1198 cc",
         "87 bhp @ 6000 rpm",
         "109 Nm @ 4500 rpm",
         "FWD",
         "3990",
         "1680",
         "1505",
         "5",
         "35"
        ],
        [
         "Maruti Suzuki",
         "Swift DZire VDI",
         "450000",
         "2014",
         "75000",
         "Diesel",
         "Manual",
         "Ludhiana",
         "White",
         "Second",
         "Individual",
         "1248 cc",
         "74 bhp @ 4000 rpm",
         "190 Nm @ 2000 rpm",
         "FWD",
         "3995",
         "1695",
         "1555",
         "5",
         "42"
        ],
        [
         "Hyundai",
         "i10 Magna 1.2 Kappa2",
         "220000",
         "2011",
         "67000",
         "Petrol",
         "Manual",
         "Lucknow",
         "Maroon",
         "First",
         "Individual",
         "1197 cc",
         "79 bhp @ 6000 rpm",
         "112.7619 Nm @ 4000 rpm",
         "FWD",
         "3585",
         "1595",
         "1550",
         "5",
         "35"
        ],
        [
         "Toyota",
         "Glanza G",
         "799000",
         "2019",
         "37500",
         "Petrol",
         "Manual",
         "Mangalore",
         "Red",
         "First",
         "Individual",
         "1197 cc",
         "82 bhp @ 6000 rpm",
         "113 Nm @ 4200 rpm",
         "FWD",
         "3995",
         "1745",
         "1510",
         "5",
         "37"
        ],
        [
         "Toyota",
         "Innova 2.4 VX 7 STR [2016-2020]",
         "1950000",
         "2018",
         "69000",
         "Diesel",
         "Manual",
         "Mumbai",
         "Grey",
         "First",
         "Individual",
         "2393 cc",
         "148 bhp @ 3400 rpm",
         "343 Nm @ 1400 rpm",
         "RWD",
         "4735",
         "1830",
         "1795",
         "7",
         "55"
        ]
       ],
       "datasetInfos": [],
       "dbfsResultPath": null,
       "isJsonSchema": true,
       "metadata": {},
       "overflow": false,
       "plotOptions": {
        "customPlotOptions": {},
        "displayType": "table",
        "pivotAggregation": null,
        "pivotColumns": null,
        "xColumns": null,
        "yColumns": null
       },
       "removedWidgets": [],
       "schema": [
        {
         "metadata": "{}",
         "name": "make",
         "type": "\"string\""
        },
        {
         "metadata": "{}",
         "name": "model",
         "type": "\"string\""
        },
        {
         "metadata": "{}",
         "name": "price",
         "type": "\"string\""
        },
        {
         "metadata": "{}",
         "name": "year",
         "type": "\"string\""
        },
        {
         "metadata": "{}",
         "name": "kilometer",
         "type": "\"string\""
        },
        {
         "metadata": "{}",
         "name": "fuel_type",
         "type": "\"string\""
        },
        {
         "metadata": "{}",
         "name": "transmission",
         "type": "\"string\""
        },
        {
         "metadata": "{}",
         "name": "location",
         "type": "\"string\""
        },
        {
         "metadata": "{}",
         "name": "color",
         "type": "\"string\""
        },
        {
         "metadata": "{}",
         "name": "owner",
         "type": "\"string\""
        },
        {
         "metadata": "{}",
         "name": "seller_type",
         "type": "\"string\""
        },
        {
         "metadata": "{}",
         "name": "engine",
         "type": "\"string\""
        },
        {
         "metadata": "{}",
         "name": "max_power",
         "type": "\"string\""
        },
        {
         "metadata": "{}",
         "name": "max_torque",
         "type": "\"string\""
        },
        {
         "metadata": "{}",
         "name": "drivetrain",
         "type": "\"string\""
        },
        {
         "metadata": "{}",
         "name": "length",
         "type": "\"string\""
        },
        {
         "metadata": "{}",
         "name": "width",
         "type": "\"string\""
        },
        {
         "metadata": "{}",
         "name": "height",
         "type": "\"string\""
        },
        {
         "metadata": "{}",
         "name": "seating_capacity",
         "type": "\"string\""
        },
        {
         "metadata": "{}",
         "name": "fuel_tank_capacity",
         "type": "\"string\""
        }
       ],
       "type": "table"
      }
     },
     "output_type": "display_data"
    }
   ],
   "source": [
    "## version number \n",
    "table1 = spark.read.format(\"delta\").option(\"versionAsOf\", \"0\").load(save_path)\n",
    "display(table1.limit(5))"
   ]
  },
  {
   "cell_type": "code",
   "execution_count": 0,
   "metadata": {
    "application/vnd.databricks.v1+cell": {
     "cellMetadata": {
      "byteLimit": 2048000,
      "rowLimit": 10000
     },
     "inputWidgets": {},
     "nuid": "af9aa636-e764-478c-85b1-0dc418f709c2",
     "showTitle": false,
     "title": ""
    }
   },
   "outputs": [
    {
     "output_type": "display_data",
     "data": {
      "text/html": [
       "<style scoped>\n",
       "  .table-result-container {\n",
       "    max-height: 300px;\n",
       "    overflow: auto;\n",
       "  }\n",
       "  table, th, td {\n",
       "    border: 1px solid black;\n",
       "    border-collapse: collapse;\n",
       "  }\n",
       "  th, td {\n",
       "    padding: 5px;\n",
       "  }\n",
       "  th {\n",
       "    text-align: left;\n",
       "  }\n",
       "</style><div class='table-result-container'><table class='table-result'><thead style='background-color: white'><tr><th>make</th><th>model</th><th>price</th><th>year</th><th>kilometer</th><th>fuel_type</th><th>transmission</th><th>location</th><th>color</th><th>owner</th><th>seller_type</th><th>engine</th><th>max_power</th><th>max_torque</th><th>drivetrain</th><th>length</th><th>width</th><th>height</th><th>seating_capacity</th><th>fuel_tank_capacity</th><th>100k_miles</th></tr></thead><tbody><tr><td>Honda</td><td>Amaze 1.2 VX i-VTEC</td><td>505000</td><td>2017</td><td>87150</td><td>Petrol</td><td>Manual</td><td>Pune</td><td>Grey</td><td>First</td><td>Corporate</td><td>1198 cc</td><td>87 bhp @ 6000 rpm</td><td>109 Nm @ 4500 rpm</td><td>FWD</td><td>3990</td><td>1680</td><td>1505</td><td>5</td><td>35</td><td>false</td></tr><tr><td>Maruti Suzuki</td><td>Swift DZire VDI</td><td>450000</td><td>2014</td><td>75000</td><td>Diesel</td><td>Manual</td><td>Ludhiana</td><td>White</td><td>Second</td><td>Individual</td><td>1248 cc</td><td>74 bhp @ 4000 rpm</td><td>190 Nm @ 2000 rpm</td><td>FWD</td><td>3995</td><td>1695</td><td>1555</td><td>5</td><td>42</td><td>false</td></tr><tr><td>Hyundai</td><td>i10 Magna 1.2 Kappa2</td><td>220000</td><td>2011</td><td>67000</td><td>Petrol</td><td>Manual</td><td>Lucknow</td><td>Maroon</td><td>First</td><td>Individual</td><td>1197 cc</td><td>79 bhp @ 6000 rpm</td><td>112.7619 Nm @ 4000 rpm</td><td>FWD</td><td>3585</td><td>1595</td><td>1550</td><td>5</td><td>35</td><td>false</td></tr><tr><td>Toyota</td><td>Glanza G</td><td>799000</td><td>2019</td><td>37500</td><td>Petrol</td><td>Manual</td><td>Mangalore</td><td>Red</td><td>First</td><td>Individual</td><td>1197 cc</td><td>82 bhp @ 6000 rpm</td><td>113 Nm @ 4200 rpm</td><td>FWD</td><td>3995</td><td>1745</td><td>1510</td><td>5</td><td>37</td><td>false</td></tr><tr><td>Toyota</td><td>Innova 2.4 VX 7 STR [2016-2020]</td><td>1950000</td><td>2018</td><td>69000</td><td>Diesel</td><td>Manual</td><td>Mumbai</td><td>Grey</td><td>First</td><td>Individual</td><td>2393 cc</td><td>148 bhp @ 3400 rpm</td><td>343 Nm @ 1400 rpm</td><td>RWD</td><td>4735</td><td>1830</td><td>1795</td><td>7</td><td>55</td><td>false</td></tr></tbody></table></div>"
      ]
     },
     "metadata": {
      "application/vnd.databricks.v1+output": {
       "addedWidgets": {},
       "aggData": [],
       "aggError": "",
       "aggOverflow": false,
       "aggSchema": [],
       "aggSeriesLimitReached": false,
       "aggType": "",
       "arguments": {},
       "columnCustomDisplayInfos": {},
       "data": [
        [
         "Honda",
         "Amaze 1.2 VX i-VTEC",
         "505000",
         "2017",
         87150,
         "Petrol",
         "Manual",
         "Pune",
         "Grey",
         "First",
         "Corporate",
         "1198 cc",
         "87 bhp @ 6000 rpm",
         "109 Nm @ 4500 rpm",
         "FWD",
         "3990",
         "1680",
         "1505",
         "5",
         "35",
         false
        ],
        [
         "Maruti Suzuki",
         "Swift DZire VDI",
         "450000",
         "2014",
         75000,
         "Diesel",
         "Manual",
         "Ludhiana",
         "White",
         "Second",
         "Individual",
         "1248 cc",
         "74 bhp @ 4000 rpm",
         "190 Nm @ 2000 rpm",
         "FWD",
         "3995",
         "1695",
         "1555",
         "5",
         "42",
         false
        ],
        [
         "Hyundai",
         "i10 Magna 1.2 Kappa2",
         "220000",
         "2011",
         67000,
         "Petrol",
         "Manual",
         "Lucknow",
         "Maroon",
         "First",
         "Individual",
         "1197 cc",
         "79 bhp @ 6000 rpm",
         "112.7619 Nm @ 4000 rpm",
         "FWD",
         "3585",
         "1595",
         "1550",
         "5",
         "35",
         false
        ],
        [
         "Toyota",
         "Glanza G",
         "799000",
         "2019",
         37500,
         "Petrol",
         "Manual",
         "Mangalore",
         "Red",
         "First",
         "Individual",
         "1197 cc",
         "82 bhp @ 6000 rpm",
         "113 Nm @ 4200 rpm",
         "FWD",
         "3995",
         "1745",
         "1510",
         "5",
         "37",
         false
        ],
        [
         "Toyota",
         "Innova 2.4 VX 7 STR [2016-2020]",
         "1950000",
         "2018",
         69000,
         "Diesel",
         "Manual",
         "Mumbai",
         "Grey",
         "First",
         "Individual",
         "2393 cc",
         "148 bhp @ 3400 rpm",
         "343 Nm @ 1400 rpm",
         "RWD",
         "4735",
         "1830",
         "1795",
         "7",
         "55",
         false
        ]
       ],
       "datasetInfos": [],
       "dbfsResultPath": null,
       "isJsonSchema": true,
       "metadata": {},
       "overflow": false,
       "plotOptions": {
        "customPlotOptions": {},
        "displayType": "table",
        "pivotAggregation": null,
        "pivotColumns": null,
        "xColumns": null,
        "yColumns": null
       },
       "removedWidgets": [],
       "schema": [
        {
         "metadata": "{}",
         "name": "make",
         "type": "\"string\""
        },
        {
         "metadata": "{}",
         "name": "model",
         "type": "\"string\""
        },
        {
         "metadata": "{}",
         "name": "price",
         "type": "\"string\""
        },
        {
         "metadata": "{}",
         "name": "year",
         "type": "\"string\""
        },
        {
         "metadata": "{}",
         "name": "kilometer",
         "type": "\"integer\""
        },
        {
         "metadata": "{}",
         "name": "fuel_type",
         "type": "\"string\""
        },
        {
         "metadata": "{}",
         "name": "transmission",
         "type": "\"string\""
        },
        {
         "metadata": "{}",
         "name": "location",
         "type": "\"string\""
        },
        {
         "metadata": "{}",
         "name": "color",
         "type": "\"string\""
        },
        {
         "metadata": "{}",
         "name": "owner",
         "type": "\"string\""
        },
        {
         "metadata": "{}",
         "name": "seller_type",
         "type": "\"string\""
        },
        {
         "metadata": "{}",
         "name": "engine",
         "type": "\"string\""
        },
        {
         "metadata": "{}",
         "name": "max_power",
         "type": "\"string\""
        },
        {
         "metadata": "{}",
         "name": "max_torque",
         "type": "\"string\""
        },
        {
         "metadata": "{}",
         "name": "drivetrain",
         "type": "\"string\""
        },
        {
         "metadata": "{}",
         "name": "length",
         "type": "\"string\""
        },
        {
         "metadata": "{}",
         "name": "width",
         "type": "\"string\""
        },
        {
         "metadata": "{}",
         "name": "height",
         "type": "\"string\""
        },
        {
         "metadata": "{}",
         "name": "seating_capacity",
         "type": "\"string\""
        },
        {
         "metadata": "{}",
         "name": "fuel_tank_capacity",
         "type": "\"string\""
        },
        {
         "metadata": "{}",
         "name": "100k_miles",
         "type": "\"boolean\""
        }
       ],
       "type": "table"
      }
     },
     "output_type": "display_data"
    }
   ],
   "source": [
    "## version number \n",
    "table2 = spark.read.format(\"delta\").option(\"versionAsOf\", \"1\").load(save_path)\n",
    "display(table2.limit(5))"
   ]
  },
  {
   "cell_type": "markdown",
   "metadata": {
    "application/vnd.databricks.v1+cell": {
     "cellMetadata": {},
     "inputWidgets": {},
     "nuid": "f9bb72d4-a6d2-4ad7-b10f-9fba0b2fa9b5",
     "showTitle": false,
     "title": ""
    }
   },
   "source": [
    "You can see from the above two cells that version 0 represents our original data and version 1 includes the column we added. "
   ]
  },
  {
   "cell_type": "markdown",
   "metadata": {
    "application/vnd.databricks.v1+cell": {
     "cellMetadata": {},
     "inputWidgets": {},
     "nuid": "4c8f54ca-9222-4d0b-b5b1-924135d72b63",
     "showTitle": false,
     "title": ""
    }
   },
   "source": [
    "\n",
    "## <img src = 'https://www.svgrepo.com/show/176852/pin-signs.svg' style=\"height: 50px; margin: 5px; padding: 5px\"/> Summary\n",
    "---\n",
    "In summary, the transaction log and accompanying protocols add structure and organization on top of the data lake storage in Delta Lake, making the Delta Lake a lakehouse. The ACID compliancy and metadata handling add a lot of reliability on top of the data storage, ensure data quality and consistency, guard against data corruption, and even aid reproducibility and auditing. \n",
    "\n",
    "Specifically, in this tutorial, you learned:\n",
    "\n",
    "* How to create Delta tables\n",
    "* How Delta Tables ensure ACID compliant transactions\n",
    "* How to view and understand transaction logs\n",
    "* How to view previous data versions \n",
    "\n",
    "\n",
    "## <img src = 'https://www.svgrepo.com/show/199671/next.svg' style=\"height: 50px; margin: 5px; padding: 5px\"/> Next steps\n",
    "---\n",
    "View the following Databricks blogs to learn more about the Delta Lake Engine and ACID compliancy \n",
    "\n",
    "*  <a href=\"https://docs.databricks.com/en/delta/index.html\" target=\"_blank\"> \n",
    "What is Delta Lake?</a>\n",
    "* <a href=\" https://www.databricks.com/blog/2019/08/21/diving-into-delta-lake-unpacking-the-transaction-log.html\" target=\"_blank\"> \n",
    "Diving Into Delta Lake: Unpacking The Transaction Log</a>\n",
    "* <a href=\" https://docs.databricks.com/en/lakehouse/acid.html\" target=\"_blank\"> \n",
    "What are ACID guarantees on Databricks? </a>\n"
   ]
  }
 ],
 "metadata": {
  "application/vnd.databricks.v1+notebook": {
   "dashboards": [],
   "environmentMetadata": null,
   "language": "python",
   "notebookMetadata": {
    "pythonIndentUnit": 4
   },
   "notebookName": "Delta Lake Tutorial",
   "widgets": {}
  }
 },
 "nbformat": 4,
 "nbformat_minor": 0
}
