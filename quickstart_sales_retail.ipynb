{
 "cells": [
  {
   "cell_type": "code",
   "execution_count": 0,
   "metadata": {
    "application/vnd.databricks.v1+cell": {
     "cellMetadata": {},
     "inputWidgets": {},
     "nuid": "d594a545-40a7-4d14-b1c3-5198ae1256d3",
     "showTitle": false,
     "title": ""
    }
   },
   "outputs": [],
   "source": [
    "The notebook explains data lakehouse in simple terms and what task data lakehouse is capable to perform.\n",
    "Datasets: \n",
    "    1. https://www.kaggle.com/datasets/divyeshardeshana/warehouse-and-retail-sales (structured data aka csv file)\n",
    "    2. https://github.com/robconery/json-sales-data/blob/master/data/customers.json (semi structured data aka JSON file )\n"
   ]
  },
  {
   "cell_type": "markdown",
   "metadata": {
    "application/vnd.databricks.v1+cell": {
     "cellMetadata": {},
     "inputWidgets": {},
     "nuid": "3b20ce1f-c3a4-49de-b831-7218765de596",
     "showTitle": false,
     "title": ""
    }
   },
   "source": [
    "**Objective:**  Demonstrate how a Data Lakehouse facilitates the integration of structured, semi-structured and unstructured data."
   ]
  },
  {
   "cell_type": "code",
   "execution_count": 0,
   "metadata": {
    "application/vnd.databricks.v1+cell": {
     "cellMetadata": {
      "byteLimit": 2048000,
      "rowLimit": 10000
     },
     "inputWidgets": {},
     "nuid": "a7ece7ee-f5e0-4e29-8cd1-6b6ac715d153",
     "showTitle": false,
     "title": ""
    }
   },
   "outputs": [
    {
     "output_type": "stream",
     "name": "stdout",
     "output_type": "stream",
     "text": [
      "+----+-----+--------------------+---------+--------------------+---------+------------+----------------+---------------+\n|YEAR|MONTH|            SUPPLIER|ITEM CODE|    ITEM DESCRIPTION|ITEM TYPE|RETAIL SALES|RETAIL TRANSFERS|WAREHOUSE SALES|\n+----+-----+--------------------+---------+--------------------+---------+------------+----------------+---------------+\n|2020|    1|REPUBLIC NATIONAL...|   100009| BOOTLEG RED - 750ML|     WINE|        0.00|            0.00|           2.00|\n|2020|    1|           PWSWN INC|   100024|MOMENT DE PLAISIR...|     WINE|        0.00|            1.00|           4.00|\n|2020|    1|RELIABLE CHURCHIL...|     1001|S SMITH ORGANIC P...|     BEER|        0.00|            0.00|           1.00|\n|2020|    1|LANTERNA DISTRIBU...|   100145|SCHLINK HAUS KABI...|     WINE|        0.00|            0.00|           1.00|\n|2020|    1|DIONYSOS IMPORTS INC|   100293|SANTORINI GAVALA ...|     WINE|        0.82|            0.00|           0.00|\n|2020|    1|KYSELA PERE ET FI...|   100641|CORTENOVA VENETO ...|     WINE|        2.76|            0.00|           6.00|\n|2020|    1|SANTA MARGHERITA ...|   100749|SANTA MARGHERITA ...|     WINE|        0.08|            1.00|           1.00|\n|2020|    1|BROWN-FORMAN BEVE...|     1008|JACK DANIELS COUN...|     BEER|        0.00|            0.00|           2.00|\n|2020|    1|  JIM BEAM BRANDS CO|    10103|KNOB CREEK BOURBO...|   LIQUOR|        6.41|            4.00|           0.00|\n|2020|    1|INTERNATIONAL CEL...|   101117|   KSARA CAB - 750ML|     WINE|        0.33|            1.00|           2.00|\n|2020|    1|HEAVEN HILL DISTI...|    10120|J W DANT BOURBON ...|   LIQUOR|        1.70|            1.00|           0.00|\n|2020|    1|BACCHUS IMPORTERS...|    10123|NOTEWORTHY SMALL ...|   LIQUOR|        1.02|            0.00|           0.00|\n|2020|    1|BACCHUS IMPORTERS...|    10124|NOTEWORTHY SMALL ...|   LIQUOR|        0.68|            0.00|           0.00|\n|2020|    1|BACCHUS IMPORTERS...|    10125|NOTEWORTHY SMALL ...|   LIQUOR|        0.34|            0.00|           0.00|\n|2020|    1|MONSIEUR TOUTON S...|   101346|ALSACE WILLIAM GE...|     WINE|        0.00|            0.00|           2.00|\n|2020|    1|THE COUNTRY VINTN...|   101486|POLIZIANO ROSSO M...|     WINE|        0.00|            0.00|           1.00|\n|2020|    1|THE COUNTRY VINTN...|   101532|HATSUMAGO SAKE JU...|     WINE|        0.34|            1.00|           1.00|\n|2020|    1|     ROYAL WINE CORP|   101664|RAMON CORDOVA RIO...|     WINE|        0.16|            0.00|           2.00|\n|2020|    1|REPUBLIC NATIONAL...|   101702|MANISCHEWITZ CREA...|     WINE|        0.00|            0.00|           1.00|\n|2020|    1|     ROYAL WINE CORP|   101753|BARKAN CLASSIC PE...|     WINE|        0.00|            0.00|           3.00|\n+----+-----+--------------------+---------+--------------------+---------+------------+----------------+---------------+\nonly showing top 20 rows\n\n"
     ]
    }
   ],
   "source": [
    "from pyspark.sql.functions import col, when\n",
    "sales_df = spark.read.option(\"header\", True).csv(\"dbfs:/FileStore/Warehouse_and_Retail_Sales.csv\") # reading structured data (CSV)\n",
    "sales_df.show()"
   ]
  },
  {
   "cell_type": "code",
   "execution_count": 0,
   "metadata": {
    "application/vnd.databricks.v1+cell": {
     "cellMetadata": {
      "byteLimit": 2048000,
      "rowLimit": 10000
     },
     "inputWidgets": {},
     "nuid": "4628e892-a907-4a5e-8fbc-5ab7c1560294",
     "showTitle": false,
     "title": ""
    }
   },
   "outputs": [
    {
     "output_type": "stream",
     "name": "stdout",
     "output_type": "stream",
     "text": [
      "+--------------------+--------------------+--------------------+--------------------+-------+---+---------+\n|             company|             country|          created_at|               email|  first| id|     last|\n+--------------------+--------------------+--------------------+--------------------+-------+---+---------+\n|Hilll, Mayert and...|         Switzerland|2014-12-25T04:06:...|isidro_von@hotmai...| Torrey|  1|     Veum|\n|      Stokes-Reichel|Democratic People...|2014-07-03T16:08:...|frederique19@gmai...|  Micah|  2|  Sanford|\n|Rodriguez, Cartwr...|             Tunisia|2014-08-18T06:15:...|   fredy54@gmail.com| Hollis|  3|    Swift|\n|Sipes, Feeney and...|                Chad|2014-07-10T11:31:...|braxton29@hotmail...|  Perry|  4|  Leffler|\n| Lesch and Daughters|           Swaziland|2014-04-21T15:05:...|  turner59@gmail.com|Janelle|  5|  Hagenes|\n|    Gorczany-Monahan|             Lebanon|2014-09-21T21:59:...|   halie47@yahoo.com|Charity|  6|  Bradtke|\n|   Williamson-Hickle|               Egypt|2014-11-11T12:20:...|loren_yundt@gmail...|  Dejah|  7| Kshlerin|\n|      Tillman-Harris|              Israel|2014-07-23T02:00:...|kenton_macejkovic...|  Ellen|  8| Schaefer|\n|          Dare Group|               Macao|2014-04-11T12:43:...|  pascale5@yahoo.com|   Sven|  9|     Funk|\n| Zieme and Daughters|               Congo|2014-10-18T05:50:...|   frank34@yahoo.com|Ryleigh| 10|     Cole|\n|         Brakus-Rath|             Reunion|2014-04-29T06:41:...| harry65@hotmail.com| Cooper| 11|   Grimes|\n|       Bode-Botsford|          Guadeloupe|2014-12-29T18:46:...|kiana.schowalter@...|Esteban| 12| Homenick|\n|           Ratke LLC|             Lebanon|2015-03-13T12:15:...|josh_batz60@gmail...|Lucinda| 13|   Waters|\n|Durgan, Sporer an...|               Ghana|2014-04-23T23:56:...|  zula36@hotmail.com| Jarvis| 14|   Grimes|\n|          Green-Haag|              Serbia|2014-07-13T00:07:...| romaine21@gmail.com| Jordon| 15| Turcotte|\n|Hoeger, Frami and...|               Sudan|2014-04-10T14:07:...|  abdul3@hotmail.com|Marques| 16|     Bins|\n|     Waelchi-Schuppe|   Wallis and Futuna|2014-11-18T22:42:...|   van39@hotmail.com|  Edgar| 17|Jaskolski|\n|Tillman, Bailey a...|        Sierra Leone|2014-07-19T07:19:...|emie_corkery82@ya...|  Adell| 18|Rodriguez|\n|  Heathcote-Schiller|             Namibia|2014-08-25T04:29:...|alexis62@hotmail.com|Madonna| 19| Luettgen|\n|         Stroman Inc|             Georgia|2014-08-22T22:56:...|lucius_hills53@ya...|  Andre| 20|     Huel|\n+--------------------+--------------------+--------------------+--------------------+-------+---+---------+\nonly showing top 20 rows\n\n"
     ]
    }
   ],
   "source": [
    "customers_df = spark.read.json(\"dbfs:/FileStore/customers.json\") # reading semi-structured data (JSON)\n",
    "customers_df.show()"
   ]
  },
  {
   "cell_type": "markdown",
   "metadata": {
    "application/vnd.databricks.v1+cell": {
     "cellMetadata": {},
     "inputWidgets": {},
     "nuid": "790e0aab-2c2a-4cee-9ca9-181e183f50c2",
     "showTitle": false,
     "title": ""
    }
   },
   "source": [
    "Managing and transforming data"
   ]
  },
  {
   "cell_type": "code",
   "execution_count": 0,
   "metadata": {
    "application/vnd.databricks.v1+cell": {
     "cellMetadata": {
      "byteLimit": 2048000,
      "rowLimit": 10000
     },
     "inputWidgets": {},
     "nuid": "526ef585-3dbe-4a10-b420-692934501a31",
     "showTitle": false,
     "title": ""
    }
   },
   "outputs": [
    {
     "output_type": "stream",
     "name": "stdout",
     "output_type": "stream",
     "text": [
      "+--------------------+--------------------+--------------------+--------------------+---------+---+----------+-------------+\n|             company|             country|          created_at|               email|    first| id|      last|customer_type|\n+--------------------+--------------------+--------------------+--------------------+---------+---+----------+-------------+\n|Hilll, Mayert and...|         Switzerland|2014-12-25T04:06:...|isidro_von@hotmai...|   Torrey|  1|      Veum|     Personal|\n|      Stokes-Reichel|Democratic People...|2014-07-03T16:08:...|frederique19@gmai...|    Micah|  2|   Sanford|     Personal|\n|Rodriguez, Cartwr...|             Tunisia|2014-08-18T06:15:...|   fredy54@gmail.com|   Hollis|  3|     Swift|     Personal|\n|Sipes, Feeney and...|                Chad|2014-07-10T11:31:...|braxton29@hotmail...|    Perry|  4|   Leffler|     Personal|\n| Lesch and Daughters|           Swaziland|2014-04-21T15:05:...|  turner59@gmail.com|  Janelle|  5|   Hagenes|     Personal|\n|    Gorczany-Monahan|             Lebanon|2014-09-21T21:59:...|   halie47@yahoo.com|  Charity|  6|   Bradtke|     Personal|\n|   Williamson-Hickle|               Egypt|2014-11-11T12:20:...|loren_yundt@gmail...|    Dejah|  7|  Kshlerin|     Personal|\n|      Tillman-Harris|              Israel|2014-07-23T02:00:...|kenton_macejkovic...|    Ellen|  8|  Schaefer|     Personal|\n|          Dare Group|               Macao|2014-04-11T12:43:...|  pascale5@yahoo.com|     Sven|  9|      Funk|     Personal|\n| Zieme and Daughters|               Congo|2014-10-18T05:50:...|   frank34@yahoo.com|  Ryleigh| 10|      Cole|     Personal|\n|         Brakus-Rath|             Reunion|2014-04-29T06:41:...| harry65@hotmail.com|   Cooper| 11|    Grimes|     Personal|\n|       Bode-Botsford|          Guadeloupe|2014-12-29T18:46:...|kiana.schowalter@...|  Esteban| 12|  Homenick|     Personal|\n|           Ratke LLC|             Lebanon|2015-03-13T12:15:...|josh_batz60@gmail...|  Lucinda| 13|    Waters|     Personal|\n|Durgan, Sporer an...|               Ghana|2014-04-23T23:56:...|  zula36@hotmail.com|   Jarvis| 14|    Grimes|     Personal|\n|          Green-Haag|              Serbia|2014-07-13T00:07:...| romaine21@gmail.com|   Jordon| 15|  Turcotte|     Personal|\n|Hoeger, Frami and...|               Sudan|2014-04-10T14:07:...|  abdul3@hotmail.com|  Marques| 16|      Bins|     Personal|\n|     Waelchi-Schuppe|   Wallis and Futuna|2014-11-18T22:42:...|   van39@hotmail.com|    Edgar| 17| Jaskolski|     Personal|\n|Tillman, Bailey a...|        Sierra Leone|2014-07-19T07:19:...|emie_corkery82@ya...|    Adell| 18| Rodriguez|     Personal|\n|  Heathcote-Schiller|             Namibia|2014-08-25T04:29:...|alexis62@hotmail.com|  Madonna| 19|  Luettgen|     Personal|\n|         Stroman Inc|             Georgia|2014-08-22T22:56:...|lucius_hills53@ya...|    Andre| 20|      Huel|     Personal|\n|  Ernser-Oberbrunner|             Lebanon|2014-09-01T21:22:...|jeanette.leannon2...|   Darrin| 21|    Larson|     Personal|\n|     Paucek and Sons|               Congo|2014-12-29T18:29:...|concepcion_kiehn@...|   Johann| 22|     Hintz|     Personal|\n|  O'Connell and Sons|             Lesotho|2014-10-23T09:57:...|   blaze84@yahoo.com|     Cruz| 23|    Harber|     Personal|\n|          Rath Group|             Andorra|2014-09-26T10:55:...|vanessa27@hotmail...|    Melba| 24|Stiedemann|     Personal|\n|Ledner, Jacobs an...|               Congo|2015-03-03T13:32:...|gay_quigley98@gma...|   Bonita| 25|    Hickle|     Personal|\n|Bailey, McDermott...|              Tuvalu|2014-12-13T01:39:...|mireille.conroy96...|     Kali| 26|    Bailey|     Personal|\n|Brown, Carter and...|        Burkina Faso|2014-06-01T05:27:...|candido.cormier89...|   Kristy| 27|   Quigley|     Personal|\n|     Fisher and Sons|             Bahamas|2014-09-19T09:39:...|lola_altenwerth82...|   Leanna| 28|      Dach|     Personal|\n|       Monahan Group|                Guam|2014-12-02T23:43:...|willie36@hotmail.com|   Hannah| 29|   O'Keefe|     Personal|\n|          Wolf Group|           Indonesia|2014-05-29T13:39:...| minerva10@gmail.com|   Melyna| 30|   Carroll|     Personal|\n|         Metz-Harber|         El Salvador|2014-08-22T09:24:...|peyton_mante@yaho...|  Rashawn| 31|     Mayer|     Personal|\n|           White Inc|               Gabon|2015-02-28T06:22:...|trinity_fay@yahoo...|  Rodrigo| 32|      Huel|     Personal|\n|    Lesch-McLaughlin|             Hungary|2014-06-08T04:17:...|reilly.kiehn6@hot...|      Bud| 33|    Raynor|     Personal|\n|    Barton-Greenholt|              Guyana|2014-04-10T06:25:...|shawna_walsh47@ya...|Estefania| 34|  Parisian|     Personal|\n|      McClure-Raynor|            Cameroon|2014-11-09T22:43:...| retha28@hotmail.com| Crawford| 35|    Paucek|     Personal|\n|     Strosin-Stracke|              Sweden|2014-11-12T09:04:...|nathen_mckenzie60...|     Cale| 36|     Zieme|     Personal|\n|Donnelly, Mante a...|              Bhutan|2014-05-26T22:00:...|  mara75@hotmail.com|      Ike| 37|  Schimmel|     Personal|\n|         Wyman-Lesch|Holy See (Vatican...|2015-03-09T12:43:...|adonis_ankunding@...|   Samara| 38|   Labadie|     Personal|\n|Fadel, Breitenber...|United States of ...|2015-03-21T10:58:...|newton.schultz@ho...|     Joel| 39|   Volkman|     Personal|\n|    Witting and Sons|              Canada|2014-10-26T13:31:...|neva.pollich30@ya...|     Cali| 40|  Champlin|     Personal|\n|        Tromp-Harvey|             Grenada|2015-02-06T05:21:...|lindsay.weber@yah...|    Ahmed| 41|    Klocko|     Personal|\n|        Hilpert-Bode|          Bangladesh|2014-10-11T02:49:...| kira_feil@yahoo.com|  Presley| 42|   Wuckert|     Personal|\n|Parisian, Reicher...|              Poland|2015-03-18T19:33:...|lew.blick34@yahoo...|     Bell| 43|    Sporer|     Personal|\n|        Fadel-Schoen|Bouvet Island (Bo...|2014-10-29T19:12:...|reva.lindgren84@y...|      Ola| 44|      Cole|     Personal|\n|Reilly and Daughters|             Somalia|2014-10-19T13:15:...|harley20@hotmail.com|     Cleo| 45|   Sanford|     Personal|\n|         Marks-Lesch|              Brazil|2014-12-21T01:27:...|ferne.rempel0@hot...|Bridgette| 46|    Harris|     Personal|\n|Lowe, Haley and S...|            Barbados|2014-06-20T05:19:...|noemy.schumm13@ho...|  Lavinia| 47|   Schmitt|     Personal|\n| Lynch and Daughters|              Bhutan|2014-10-17T20:33:...|leilani.robel@yah...|   Lionel| 48|     Johns|     Personal|\n|           Kuhic LLC|              Monaco|2014-06-02T23:49:...|russ.bogan28@hotm...|     Olen| 49|      King|     Personal|\n|       Bechtelar LLC|          Martinique|2014-07-23T16:48:...|caitlyn.friesen@h...|     Icie| 50|    Beahan|     Personal|\n+--------------------+--------------------+--------------------+--------------------+---------+---+----------+-------------+\nonly showing top 50 rows\n\n"
     ]
    }
   ],
   "source": [
    "customers_df = customers_df.withColumn(\"customer_type\", when(col(\"email\").contains(\"@business.com\"), \"Business\").otherwise(\"Personal\")) # Extracting customer type from email domain as a new unstructured trait\n",
    "customers_df.show()"
   ]
  },
  {
   "cell_type": "code",
   "execution_count": 0,
   "metadata": {
    "application/vnd.databricks.v1+cell": {
     "cellMetadata": {
      "byteLimit": 2048000,
      "rowLimit": 10000
     },
     "inputWidgets": {},
     "nuid": "0a2a33c9-0fbd-4b37-b36b-1fb1610b8682",
     "showTitle": false,
     "title": ""
    }
   },
   "outputs": [
    {
     "output_type": "stream",
     "name": "stdout",
     "output_type": "stream",
     "text": [
      "+----+-----+---------------------------------+---------+-------------------+---------+------------+----------------+---------------+------------------------------+-------------------------------------+------------------------+-------------------------------+-------+---+---------+-------------+\n|YEAR|MONTH|SUPPLIER                         |ITEM CODE|ITEM DESCRIPTION   |ITEM TYPE|RETAIL SALES|RETAIL TRANSFERS|WAREHOUSE SALES|company                       |country                              |created_at              |email                          |first  |id |last     |customer_type|\n+----+-----+---------------------------------+---------+-------------------+---------+------------+----------------+---------------+------------------------------+-------------------------------------+------------------------+-------------------------------+-------+---+---------+-------------+\n|2020|1    |REPUBLIC NATIONAL DISTRIBUTING CO|100009   |BOOTLEG RED - 750ML|WINE     |0.00        |0.00            |2.00           |Hilll, Mayert and Wolf        |Switzerland                          |2014-12-25T04:06:27.981Z|isidro_von@hotmail.com         |Torrey |1  |Veum     |Personal     |\n|2020|1    |REPUBLIC NATIONAL DISTRIBUTING CO|100009   |BOOTLEG RED - 750ML|WINE     |0.00        |0.00            |2.00           |Stokes-Reichel                |Democratic People's Republic of Korea|2014-07-03T16:08:17.044Z|frederique19@gmail.com         |Micah  |2  |Sanford  |Personal     |\n|2020|1    |REPUBLIC NATIONAL DISTRIBUTING CO|100009   |BOOTLEG RED - 750ML|WINE     |0.00        |0.00            |2.00           |Rodriguez, Cartwright and Kuhn|Tunisia                              |2014-08-18T06:15:16.731Z|fredy54@gmail.com              |Hollis |3  |Swift    |Personal     |\n|2020|1    |REPUBLIC NATIONAL DISTRIBUTING CO|100009   |BOOTLEG RED - 750ML|WINE     |0.00        |0.00            |2.00           |Sipes, Feeney and Hansen      |Chad                                 |2014-07-10T11:31:40.235Z|braxton29@hotmail.com          |Perry  |4  |Leffler  |Personal     |\n|2020|1    |REPUBLIC NATIONAL DISTRIBUTING CO|100009   |BOOTLEG RED - 750ML|WINE     |0.00        |0.00            |2.00           |Lesch and Daughters           |Swaziland                            |2014-04-21T15:05:43.229Z|turner59@gmail.com             |Janelle|5  |Hagenes  |Personal     |\n|2020|1    |REPUBLIC NATIONAL DISTRIBUTING CO|100009   |BOOTLEG RED - 750ML|WINE     |0.00        |0.00            |2.00           |Gorczany-Monahan              |Lebanon                              |2014-09-21T21:59:18.892Z|halie47@yahoo.com              |Charity|6  |Bradtke  |Personal     |\n|2020|1    |REPUBLIC NATIONAL DISTRIBUTING CO|100009   |BOOTLEG RED - 750ML|WINE     |0.00        |0.00            |2.00           |Williamson-Hickle             |Egypt                                |2014-11-11T12:20:53.154Z|loren_yundt@gmail.com          |Dejah  |7  |Kshlerin |Personal     |\n|2020|1    |REPUBLIC NATIONAL DISTRIBUTING CO|100009   |BOOTLEG RED - 750ML|WINE     |0.00        |0.00            |2.00           |Tillman-Harris                |Israel                               |2014-07-23T02:00:28.649Z|kenton_macejkovic80@hotmail.com|Ellen  |8  |Schaefer |Personal     |\n|2020|1    |REPUBLIC NATIONAL DISTRIBUTING CO|100009   |BOOTLEG RED - 750ML|WINE     |0.00        |0.00            |2.00           |Dare Group                    |Macao                                |2014-04-11T12:43:28.977Z|pascale5@yahoo.com             |Sven   |9  |Funk     |Personal     |\n|2020|1    |REPUBLIC NATIONAL DISTRIBUTING CO|100009   |BOOTLEG RED - 750ML|WINE     |0.00        |0.00            |2.00           |Zieme and Daughters           |Congo                                |2014-10-18T05:50:28.626Z|frank34@yahoo.com              |Ryleigh|10 |Cole     |Personal     |\n|2020|1    |REPUBLIC NATIONAL DISTRIBUTING CO|100009   |BOOTLEG RED - 750ML|WINE     |0.00        |0.00            |2.00           |Brakus-Rath                   |Reunion                              |2014-04-29T06:41:20.214Z|harry65@hotmail.com            |Cooper |11 |Grimes   |Personal     |\n|2020|1    |REPUBLIC NATIONAL DISTRIBUTING CO|100009   |BOOTLEG RED - 750ML|WINE     |0.00        |0.00            |2.00           |Bode-Botsford                 |Guadeloupe                           |2014-12-29T18:46:35.269Z|kiana.schowalter@gmail.com     |Esteban|12 |Homenick |Personal     |\n|2020|1    |REPUBLIC NATIONAL DISTRIBUTING CO|100009   |BOOTLEG RED - 750ML|WINE     |0.00        |0.00            |2.00           |Ratke LLC                     |Lebanon                              |2015-03-13T12:15:50.844Z|josh_batz60@gmail.com          |Lucinda|13 |Waters   |Personal     |\n|2020|1    |REPUBLIC NATIONAL DISTRIBUTING CO|100009   |BOOTLEG RED - 750ML|WINE     |0.00        |0.00            |2.00           |Durgan, Sporer and Bogan      |Ghana                                |2014-04-23T23:56:11.268Z|zula36@hotmail.com             |Jarvis |14 |Grimes   |Personal     |\n|2020|1    |REPUBLIC NATIONAL DISTRIBUTING CO|100009   |BOOTLEG RED - 750ML|WINE     |0.00        |0.00            |2.00           |Green-Haag                    |Serbia                               |2014-07-13T00:07:36.299Z|romaine21@gmail.com            |Jordon |15 |Turcotte |Personal     |\n|2020|1    |REPUBLIC NATIONAL DISTRIBUTING CO|100009   |BOOTLEG RED - 750ML|WINE     |0.00        |0.00            |2.00           |Hoeger, Frami and Kihn        |Sudan                                |2014-04-10T14:07:26.141Z|abdul3@hotmail.com             |Marques|16 |Bins     |Personal     |\n|2020|1    |REPUBLIC NATIONAL DISTRIBUTING CO|100009   |BOOTLEG RED - 750ML|WINE     |0.00        |0.00            |2.00           |Waelchi-Schuppe               |Wallis and Futuna                    |2014-11-18T22:42:23.788Z|van39@hotmail.com              |Edgar  |17 |Jaskolski|Personal     |\n|2020|1    |REPUBLIC NATIONAL DISTRIBUTING CO|100009   |BOOTLEG RED - 750ML|WINE     |0.00        |0.00            |2.00           |Tillman, Bailey and Weimann   |Sierra Leone                         |2014-07-19T07:19:38.388Z|emie_corkery82@yahoo.com       |Adell  |18 |Rodriguez|Personal     |\n|2020|1    |REPUBLIC NATIONAL DISTRIBUTING CO|100009   |BOOTLEG RED - 750ML|WINE     |0.00        |0.00            |2.00           |Heathcote-Schiller            |Namibia                              |2014-08-25T04:29:45.139Z|alexis62@hotmail.com           |Madonna|19 |Luettgen |Personal     |\n|2020|1    |REPUBLIC NATIONAL DISTRIBUTING CO|100009   |BOOTLEG RED - 750ML|WINE     |0.00        |0.00            |2.00           |Stroman Inc                   |Georgia                              |2014-08-22T22:56:27.222Z|lucius_hills53@yahoo.com       |Andre  |20 |Huel     |Personal     |\n+----+-----+---------------------------------+---------+-------------------+---------+------------+----------------+---------------+------------------------------+-------------------------------------+------------------------+-------------------------------+-------+---+---------+-------------+\nonly showing top 20 rows\n\n"
     ]
    }
   ],
   "source": [
    "integrated_df = sales_df.join(customers_df) #Concatenating structured and semi-structured data to create a unified view\n",
    "integrated_df.show(truncate=False)"
   ]
  },
  {
   "cell_type": "markdown",
   "metadata": {
    "application/vnd.databricks.v1+cell": {
     "cellMetadata": {},
     "inputWidgets": {},
     "nuid": "df3c1faf-9d46-4569-b83b-c3c317e557eb",
     "showTitle": false,
     "title": ""
    }
   },
   "source": [
    "**Objective:** Show how Data Lakehouse architecture leverages Spark’s distributed processing to handle large volumes of data efficiently."
   ]
  },
  {
   "cell_type": "code",
   "execution_count": 0,
   "metadata": {
    "application/vnd.databricks.v1+cell": {
     "cellMetadata": {
      "byteLimit": 2048000,
      "rowLimit": 10000
     },
     "inputWidgets": {},
     "nuid": "8b5c0e01-8854-458e-a54c-923775dfe5ef",
     "showTitle": false,
     "title": ""
    }
   },
   "outputs": [
    {
     "output_type": "stream",
     "name": "stdout",
     "output_type": "stream",
     "text": [
      "+----+-----+--------------------+---------+--------------------+---------+------------+----------------+---------------+\n|YEAR|MONTH|            SUPPLIER|ITEM CODE|    ITEM DESCRIPTION|ITEM TYPE|RETAIL SALES|RETAIL TRANSFERS|WAREHOUSE SALES|\n+----+-----+--------------------+---------+--------------------+---------+------------+----------------+---------------+\n|2020|    1|REPUBLIC NATIONAL...|   100009| BOOTLEG RED - 750ML|     WINE|        0.00|            0.00|           2.00|\n|2020|    1|           PWSWN INC|   100024|MOMENT DE PLAISIR...|     WINE|        0.00|            1.00|           4.00|\n|2020|    1|RELIABLE CHURCHIL...|     1001|S SMITH ORGANIC P...|     BEER|        0.00|            0.00|           1.00|\n|2020|    1|LANTERNA DISTRIBU...|   100145|SCHLINK HAUS KABI...|     WINE|        0.00|            0.00|           1.00|\n|2020|    1|DIONYSOS IMPORTS INC|   100293|SANTORINI GAVALA ...|     WINE|        0.82|            0.00|           0.00|\n|2020|    1|KYSELA PERE ET FI...|   100641|CORTENOVA VENETO ...|     WINE|        2.76|            0.00|           6.00|\n|2020|    1|SANTA MARGHERITA ...|   100749|SANTA MARGHERITA ...|     WINE|        0.08|            1.00|           1.00|\n|2020|    1|BROWN-FORMAN BEVE...|     1008|JACK DANIELS COUN...|     BEER|        0.00|            0.00|           2.00|\n|2020|    1|  JIM BEAM BRANDS CO|    10103|KNOB CREEK BOURBO...|   LIQUOR|        6.41|            4.00|           0.00|\n|2020|    1|INTERNATIONAL CEL...|   101117|   KSARA CAB - 750ML|     WINE|        0.33|            1.00|           2.00|\n|2020|    1|HEAVEN HILL DISTI...|    10120|J W DANT BOURBON ...|   LIQUOR|        1.70|            1.00|           0.00|\n|2020|    1|BACCHUS IMPORTERS...|    10123|NOTEWORTHY SMALL ...|   LIQUOR|        1.02|            0.00|           0.00|\n|2020|    1|BACCHUS IMPORTERS...|    10124|NOTEWORTHY SMALL ...|   LIQUOR|        0.68|            0.00|           0.00|\n|2020|    1|BACCHUS IMPORTERS...|    10125|NOTEWORTHY SMALL ...|   LIQUOR|        0.34|            0.00|           0.00|\n|2020|    1|MONSIEUR TOUTON S...|   101346|ALSACE WILLIAM GE...|     WINE|        0.00|            0.00|           2.00|\n|2020|    1|THE COUNTRY VINTN...|   101486|POLIZIANO ROSSO M...|     WINE|        0.00|            0.00|           1.00|\n|2020|    1|THE COUNTRY VINTN...|   101532|HATSUMAGO SAKE JU...|     WINE|        0.34|            1.00|           1.00|\n|2020|    1|     ROYAL WINE CORP|   101664|RAMON CORDOVA RIO...|     WINE|        0.16|            0.00|           2.00|\n|2020|    1|REPUBLIC NATIONAL...|   101702|MANISCHEWITZ CREA...|     WINE|        0.00|            0.00|           1.00|\n|2020|    1|     ROYAL WINE CORP|   101753|BARKAN CLASSIC PE...|     WINE|        0.00|            0.00|           3.00|\n+----+-----+--------------------+---------+--------------------+---------+------------+----------------+---------------+\nonly showing top 20 rows\n\n"
     ]
    }
   ],
   "source": [
    "large_sales_df = spark.read.option(\"header\", True).csv(\"dbfs:/FileStore/Warehouse_and_Retail_Sales.csv\") # Loading a large dataset \n",
    "large_sales_df.show()"
   ]
  },
  {
   "cell_type": "markdown",
   "metadata": {
    "application/vnd.databricks.v1+cell": {
     "cellMetadata": {},
     "inputWidgets": {},
     "nuid": "10531a78-a99b-499f-8c7f-c5adca44fcce",
     "showTitle": false,
     "title": ""
    }
   },
   "source": [
    "Reviewing the schemas to identify potential ways to link the data."
   ]
  },
  {
   "cell_type": "code",
   "execution_count": 0,
   "metadata": {
    "application/vnd.databricks.v1+cell": {
     "cellMetadata": {
      "byteLimit": 2048000,
      "rowLimit": 10000
     },
     "inputWidgets": {},
     "nuid": "34aefd28-f428-4dac-ba8d-794b5f74e4bd",
     "showTitle": false,
     "title": ""
    }
   },
   "outputs": [
    {
     "output_type": "stream",
     "name": "stdout",
     "output_type": "stream",
     "text": [
      "Customers Schema:\nroot\n |-- company: string (nullable = true)\n |-- country: string (nullable = true)\n |-- created_at: string (nullable = true)\n |-- email: string (nullable = true)\n |-- first: string (nullable = true)\n |-- id: long (nullable = true)\n |-- last: string (nullable = true)\n\nSales Schema:\nroot\n |-- YEAR: string (nullable = true)\n |-- MONTH: string (nullable = true)\n |-- SUPPLIER: string (nullable = true)\n |-- ITEM CODE: string (nullable = true)\n |-- ITEM DESCRIPTION: string (nullable = true)\n |-- ITEM TYPE: string (nullable = true)\n |-- RETAIL SALES: string (nullable = true)\n |-- RETAIL TRANSFERS: string (nullable = true)\n |-- WAREHOUSE SALES: string (nullable = true)\n\n"
     ]
    }
   ],
   "source": [
    "from pyspark.sql import SparkSession\n",
    "spark = SparkSession.builder.appName(\"DataLakehouseExample\").getOrCreate()\n",
    "customers_df = spark.read.json(\"dbfs:/FileStore/customers.json\")\n",
    "sales_df = spark.read.option(\"header\", True).csv(\"dbfs:/FileStore/Warehouse_and_Retail_Sales.csv\")\n",
    "\n",
    "# displaying the schema of each DataFrame\n",
    "print(\"Customers Schema:\")\n",
    "customers_df.printSchema()\n",
    "\n",
    "print(\"Sales Schema:\")\n",
    "sales_df.printSchema()\n"
   ]
  },
  {
   "cell_type": "markdown",
   "metadata": {
    "application/vnd.databricks.v1+cell": {
     "cellMetadata": {},
     "inputWidgets": {},
     "nuid": "d21b17f9-ec75-4a17-9842-4a2f23b9c3cc",
     "showTitle": false,
     "title": ""
    }
   },
   "source": [
    "Performing a distributed processing operation"
   ]
  },
  {
   "cell_type": "code",
   "execution_count": 0,
   "metadata": {
    "application/vnd.databricks.v1+cell": {
     "cellMetadata": {
      "byteLimit": 2048000,
      "rowLimit": 10000
     },
     "inputWidgets": {},
     "nuid": "45aed05d-9c53-4d92-b5a3-d01c872c291f",
     "showTitle": false,
     "title": ""
    }
   },
   "outputs": [],
   "source": [
    "from pyspark.sql.functions import col\n",
    "large_sales_df = large_sales_df.withColumn(\"WAREHOUSE SALES\", col(\"WAREHOUSE SALES\").cast(\"float\")) # By checking the schema, it was concluded that WAREHOUSE SALES is defined as a string. So converting the 'WAREHOUSE SALES' column to float"
   ]
  },
  {
   "cell_type": "code",
   "execution_count": 0,
   "metadata": {
    "application/vnd.databricks.v1+cell": {
     "cellMetadata": {
      "byteLimit": 2048000,
      "rowLimit": 10000
     },
     "inputWidgets": {},
     "nuid": "d5c7bfee-4883-445a-b55a-7cd12ef249a4",
     "showTitle": false,
     "title": ""
    }
   },
   "outputs": [
    {
     "output_type": "stream",
     "name": "stdout",
     "output_type": "stream",
     "text": [
      "+--------------------+--------------------+\n|           ITEM TYPE|sum(WAREHOUSE SALES)|\n+--------------------+--------------------+\n|        STR_SUPPLIES|                 0.0|\n|                WINE|  1156981.9099973887|\n|              LIQUOR|   94906.26995941997|\n|                BEER|     6527236.5027849|\n|             DUNNAGE|           -121454.0|\n| DOMAINE PIRON - ...|                 0.0|\n|         NON-ALCOHOL|  26149.590002059937|\n|                 REF|            -20499.0|\n|                KEGS|            118431.0|\n|                null|                 1.0|\n+--------------------+--------------------+\n\n"
     ]
    }
   ],
   "source": [
    "aggregated_sales = large_sales_df.groupBy(\"ITEM TYPE\").sum(\"WAREHOUSE SALES\") # Then, performing the aggregation\n",
    "aggregated_sales.show()"
   ]
  },
  {
   "cell_type": "code",
   "execution_count": 0,
   "metadata": {
    "application/vnd.databricks.v1+cell": {
     "cellMetadata": {
      "byteLimit": 2048000,
      "rowLimit": 10000
     },
     "inputWidgets": {},
     "nuid": "aa7cc465-5ca2-44fe-a320-50690e3131e6",
     "showTitle": false,
     "title": ""
    }
   },
   "outputs": [],
   "source": [
    "aggregated_sales.write.partitionBy(\"ITEM TYPE\").mode(\"overwrite\").parquet(\"/mnt/data/output/aggregated_warehouse_sales\") # saving the large processed data back to the data lakehouse in a scalable format"
   ]
  },
  {
   "cell_type": "markdown",
   "metadata": {
    "application/vnd.databricks.v1+cell": {
     "cellMetadata": {},
     "inputWidgets": {},
     "nuid": "85f2bc6f-6abf-4f6d-9a29-9661e89ace90",
     "showTitle": false,
     "title": ""
    }
   },
   "source": [
    "To verify that the data has been saved correctly in the Parquet format, reading the Parquet files back into a DataFrame and displaying its contents"
   ]
  },
  {
   "cell_type": "code",
   "execution_count": 0,
   "metadata": {
    "application/vnd.databricks.v1+cell": {
     "cellMetadata": {
      "byteLimit": 2048000,
      "rowLimit": 10000
     },
     "inputWidgets": {},
     "nuid": "7d26315b-f1e7-4f77-8f26-05d8c00572f0",
     "showTitle": false,
     "title": ""
    }
   },
   "outputs": [
    {
     "output_type": "stream",
     "name": "stdout",
     "output_type": "stream",
     "text": [
      "+--------------------+--------------------+\n|sum(WAREHOUSE SALES)|           ITEM TYPE|\n+--------------------+--------------------+\n|                 1.0|                null|\n|  1156981.9099973887|                WINE|\n|            -20499.0|                 REF|\n|   94906.26995941997|              LIQUOR|\n|            118431.0|                KEGS|\n|  26149.590002059937|         NON-ALCOHOL|\n|     6527236.5027849|                BEER|\n|           -121454.0|             DUNNAGE|\n|                 0.0| DOMAINE PIRON - ...|\n|                 0.0|        STR_SUPPLIES|\n+--------------------+--------------------+\n\n"
     ]
    }
   ],
   "source": [
    "aggregated_sales_parquet_df = spark.read.parquet(\"/mnt/data/output/aggregated_warehouse_sales\")\n",
    "aggregated_sales_parquet_df.show()"
   ]
  },
  {
   "cell_type": "code",
   "execution_count": 0,
   "metadata": {
    "application/vnd.databricks.v1+cell": {
     "cellMetadata": {
      "byteLimit": 2048000,
      "rowLimit": 10000
     },
     "inputWidgets": {},
     "nuid": "15a3a5ff-33e1-4685-bba5-eab0e7908262",
     "showTitle": false,
     "title": ""
    }
   },
   "outputs": [
    {
     "output_type": "stream",
     "name": "stdout",
     "output_type": "stream",
     "text": [
      "+--------------------+--------------------+\n|           ITEM TYPE|sum(WAREHOUSE SALES)|\n+--------------------+--------------------+\n|                null|                 1.0|\n|                WINE|  1156981.9099973887|\n|                 REF|            -20499.0|\n|              LIQUOR|   94906.26995941997|\n|                KEGS|            118431.0|\n|         NON-ALCOHOL|  26149.590002059937|\n|                BEER|     6527236.5027849|\n|             DUNNAGE|           -121454.0|\n| DOMAINE PIRON - ...|                 0.0|\n|        STR_SUPPLIES|                 0.0|\n+--------------------+--------------------+\n\n"
     ]
    }
   ],
   "source": [
    "flipped_aggregated_sales = aggregated_sales_parquet_df.select(\"ITEM TYPE\", \"sum(WAREHOUSE SALES)\") #just flipping columns\n",
    "flipped_aggregated_sales.show()"
   ]
  },
  {
   "cell_type": "markdown",
   "metadata": {
    "application/vnd.databricks.v1+cell": {
     "cellMetadata": {},
     "inputWidgets": {},
     "nuid": "3a7ab0f9-3b65-461e-9c44-93e2123c81d2",
     "showTitle": false,
     "title": ""
    }
   },
   "source": [
    "**Objective:** Illustrating the capability of performing advanced analytics and machine learning directly on stored data in the data lakehouse."
   ]
  },
  {
   "cell_type": "code",
   "execution_count": 0,
   "metadata": {
    "application/vnd.databricks.v1+cell": {
     "cellMetadata": {
      "byteLimit": 2048000,
      "rowLimit": 10000
     },
     "inputWidgets": {},
     "nuid": "e825a335-f987-4791-b634-2c22d8a8452d",
     "showTitle": false,
     "title": ""
    }
   },
   "outputs": [],
   "source": [
    "from pyspark.ml.feature import VectorAssembler\n",
    "from pyspark.ml.regression import LinearRegression"
   ]
  },
  {
   "cell_type": "markdown",
   "metadata": {
    "application/vnd.databricks.v1+cell": {
     "cellMetadata": {},
     "inputWidgets": {},
     "nuid": "2286551f-eb06-4ee5-bcdb-37b39668126d",
     "showTitle": false,
     "title": ""
    }
   },
   "source": [
    "Preparing data for machine learning"
   ]
  },
  {
   "cell_type": "code",
   "execution_count": 0,
   "metadata": {
    "application/vnd.databricks.v1+cell": {
     "cellMetadata": {
      "byteLimit": 2048000,
      "rowLimit": 10000
     },
     "inputWidgets": {},
     "nuid": "57528007-9692-4c51-a99f-6db0d5bdd1cb",
     "showTitle": false,
     "title": ""
    }
   },
   "outputs": [],
   "source": [
    "sales_ml_df = sales_df.select(\n",
    "    col(\"WAREHOUSE SALES\").cast(\"double\"),\n",
    "    col(\"RETAIL SALES\").cast(\"double\"),\n",
    "    col(\"YEAR\").cast(\"integer\")\n",
    ")"
   ]
  },
  {
   "cell_type": "markdown",
   "metadata": {
    "application/vnd.databricks.v1+cell": {
     "cellMetadata": {},
     "inputWidgets": {},
     "nuid": "263bb7e5-7df0-4f7a-a055-0829398d208e",
     "showTitle": false,
     "title": ""
    }
   },
   "source": [
    "Assembling features"
   ]
  },
  {
   "cell_type": "code",
   "execution_count": 0,
   "metadata": {
    "application/vnd.databricks.v1+cell": {
     "cellMetadata": {
      "byteLimit": 2048000,
      "rowLimit": 10000
     },
     "inputWidgets": {},
     "nuid": "9e4403fe-5775-434e-a03e-8f15990becdc",
     "showTitle": false,
     "title": ""
    }
   },
   "outputs": [
    {
     "output_type": "stream",
     "name": "stdout",
     "output_type": "stream",
     "text": [
      "+---------------+------------+----+-------------+\n|WAREHOUSE SALES|RETAIL SALES|YEAR|     features|\n+---------------+------------+----+-------------+\n|            2.0|         0.0|2020| [2020.0,0.0]|\n|            4.0|         0.0|2020| [2020.0,0.0]|\n|            1.0|         0.0|2020| [2020.0,0.0]|\n|            1.0|         0.0|2020| [2020.0,0.0]|\n|            0.0|        0.82|2020|[2020.0,0.82]|\n|            6.0|        2.76|2020|[2020.0,2.76]|\n|            1.0|        0.08|2020|[2020.0,0.08]|\n|            2.0|         0.0|2020| [2020.0,0.0]|\n|            0.0|        6.41|2020|[2020.0,6.41]|\n|            2.0|        0.33|2020|[2020.0,0.33]|\n|            0.0|         1.7|2020| [2020.0,1.7]|\n|            0.0|        1.02|2020|[2020.0,1.02]|\n|            0.0|        0.68|2020|[2020.0,0.68]|\n|            0.0|        0.34|2020|[2020.0,0.34]|\n|            2.0|         0.0|2020| [2020.0,0.0]|\n|            1.0|         0.0|2020| [2020.0,0.0]|\n|            1.0|        0.34|2020|[2020.0,0.34]|\n|            2.0|        0.16|2020|[2020.0,0.16]|\n|            1.0|         0.0|2020| [2020.0,0.0]|\n|            3.0|         0.0|2020| [2020.0,0.0]|\n+---------------+------------+----+-------------+\nonly showing top 20 rows\n\n"
     ]
    }
   ],
   "source": [
    "assembler = VectorAssembler(inputCols=[\"YEAR\", \"RETAIL SALES\"], outputCol=\"features\")\n",
    "sales_features = assembler.transform(sales_ml_df)\n",
    "sales_features.show()"
   ]
  },
  {
   "cell_type": "markdown",
   "metadata": {
    "application/vnd.databricks.v1+cell": {
     "cellMetadata": {},
     "inputWidgets": {},
     "nuid": "e9b2ba03-9003-435f-a91d-6c581cb42f2e",
     "showTitle": false,
     "title": ""
    }
   },
   "source": [
    "Training a linear regression model directly on the data lakehouse stored data"
   ]
  },
  {
   "cell_type": "markdown",
   "metadata": {
    "application/vnd.databricks.v1+cell": {
     "cellMetadata": {},
     "inputWidgets": {},
     "nuid": "f324c271-2f66-431f-a8ac-e760626ad1ad",
     "showTitle": false,
     "title": ""
    }
   },
   "source": [
    "Handling NULL values"
   ]
  },
  {
   "cell_type": "code",
   "execution_count": 0,
   "metadata": {
    "application/vnd.databricks.v1+cell": {
     "cellMetadata": {
      "byteLimit": 2048000,
      "rowLimit": 10000
     },
     "inputWidgets": {},
     "nuid": "52f05b68-3109-4eff-a784-c8925744d142",
     "showTitle": false,
     "title": ""
    }
   },
   "outputs": [
    {
     "output_type": "stream",
     "name": "stdout",
     "output_type": "stream",
     "text": [
      "+---------------+------------+----+-------------+\n|WAREHOUSE SALES|RETAIL SALES|YEAR|     features|\n+---------------+------------+----+-------------+\n|            2.0|         0.0|2020| [2020.0,0.0]|\n|            4.0|         0.0|2020| [2020.0,0.0]|\n|            1.0|         0.0|2020| [2020.0,0.0]|\n|            1.0|         0.0|2020| [2020.0,0.0]|\n|            0.0|        0.82|2020|[2020.0,0.82]|\n|            6.0|        2.76|2020|[2020.0,2.76]|\n|            1.0|        0.08|2020|[2020.0,0.08]|\n|            2.0|         0.0|2020| [2020.0,0.0]|\n|            0.0|        6.41|2020|[2020.0,6.41]|\n|            2.0|        0.33|2020|[2020.0,0.33]|\n|            0.0|         1.7|2020| [2020.0,1.7]|\n|            0.0|        1.02|2020|[2020.0,1.02]|\n|            0.0|        0.68|2020|[2020.0,0.68]|\n|            0.0|        0.34|2020|[2020.0,0.34]|\n|            2.0|         0.0|2020| [2020.0,0.0]|\n|            1.0|         0.0|2020| [2020.0,0.0]|\n|            1.0|        0.34|2020|[2020.0,0.34]|\n|            2.0|        0.16|2020|[2020.0,0.16]|\n|            1.0|         0.0|2020| [2020.0,0.0]|\n|            3.0|         0.0|2020| [2020.0,0.0]|\n+---------------+------------+----+-------------+\nonly showing top 20 rows\n\n"
     ]
    }
   ],
   "source": [
    "from pyspark.sql.functions import col\n",
    "sales_ml_df = sales_ml_df.fillna({'YEAR': 0, 'RETAIL SALES': 0.0, 'WAREHOUSE SALES': 0.0}) # filling null values with a default value, for example, 0\n",
    "assembler = VectorAssembler(inputCols=[\"YEAR\", \"RETAIL SALES\"], outputCol=\"features\") # re-trrying the VectorAssembler\n",
    "sales_features = assembler.transform(sales_ml_df)\n",
    "sales_features.show()"
   ]
  },
  {
   "cell_type": "markdown",
   "metadata": {
    "application/vnd.databricks.v1+cell": {
     "cellMetadata": {},
     "inputWidgets": {},
     "nuid": "6952b7cd-a530-453e-88b5-73b9c7a414af",
     "showTitle": false,
     "title": ""
    }
   },
   "source": [
    "Ensuring correct data type"
   ]
  },
  {
   "cell_type": "code",
   "execution_count": 0,
   "metadata": {
    "application/vnd.databricks.v1+cell": {
     "cellMetadata": {
      "byteLimit": 2048000,
      "rowLimit": 10000
     },
     "inputWidgets": {},
     "nuid": "0588c5a7-08cd-4409-ae93-c835908e7ec8",
     "showTitle": false,
     "title": ""
    }
   },
   "outputs": [],
   "source": [
    "sales_ml_df = sales_ml_df.withColumn(\"YEAR\", col(\"YEAR\").cast(\"double\")) # casting the YEAR column to double\n",
    "sales_ml_df = sales_ml_df.withColumn(\"RETAIL SALES\", col(\"RETAIL SALES\").cast(\"double\")) # casting REATIL SALES column to double\n",
    "sales_ml_df = sales_ml_df.withColumn(\"WAREHOUSE SALES\", col(\"WAREHOUSE SALES\").cast(\"double\")) # casting WAREHOUSE SALES column to double"
   ]
  },
  {
   "cell_type": "markdown",
   "metadata": {
    "application/vnd.databricks.v1+cell": {
     "cellMetadata": {},
     "inputWidgets": {},
     "nuid": "5f7c9e7d-a472-4ac7-a417-5f37434c49a1",
     "showTitle": false,
     "title": ""
    }
   },
   "source": [
    "Running the assemblor and linear regression after identifying correct data type"
   ]
  },
  {
   "cell_type": "code",
   "execution_count": 0,
   "metadata": {
    "application/vnd.databricks.v1+cell": {
     "cellMetadata": {
      "byteLimit": 2048000,
      "rowLimit": 10000
     },
     "inputWidgets": {},
     "nuid": "285cc402-672b-4d13-9d0e-00ed1c010211",
     "showTitle": false,
     "title": ""
    }
   },
   "outputs": [
    {
     "output_type": "stream",
     "name": "stdout",
     "output_type": "stream",
     "text": [
      "+---------------+------------+------+-------------+\n|WAREHOUSE SALES|RETAIL SALES|  YEAR|     features|\n+---------------+------------+------+-------------+\n|            2.0|         0.0|2020.0| [2020.0,0.0]|\n|            4.0|         0.0|2020.0| [2020.0,0.0]|\n|            1.0|         0.0|2020.0| [2020.0,0.0]|\n|            1.0|         0.0|2020.0| [2020.0,0.0]|\n|            0.0|        0.82|2020.0|[2020.0,0.82]|\n|            6.0|        2.76|2020.0|[2020.0,2.76]|\n|            1.0|        0.08|2020.0|[2020.0,0.08]|\n|            2.0|         0.0|2020.0| [2020.0,0.0]|\n|            0.0|        6.41|2020.0|[2020.0,6.41]|\n|            2.0|        0.33|2020.0|[2020.0,0.33]|\n|            0.0|         1.7|2020.0| [2020.0,1.7]|\n|            0.0|        1.02|2020.0|[2020.0,1.02]|\n|            0.0|        0.68|2020.0|[2020.0,0.68]|\n|            0.0|        0.34|2020.0|[2020.0,0.34]|\n|            2.0|         0.0|2020.0| [2020.0,0.0]|\n|            1.0|         0.0|2020.0| [2020.0,0.0]|\n|            1.0|        0.34|2020.0|[2020.0,0.34]|\n|            2.0|        0.16|2020.0|[2020.0,0.16]|\n|            1.0|         0.0|2020.0| [2020.0,0.0]|\n|            3.0|         0.0|2020.0| [2020.0,0.0]|\n+---------------+------------+------+-------------+\nonly showing top 20 rows\n\n"
     ]
    }
   ],
   "source": [
    "assembler = VectorAssembler(inputCols=[\"YEAR\", \"RETAIL SALES\"], outputCol=\"features\")\n",
    "sales_features = assembler.transform(sales_ml_df)\n",
    "sales_features.show()"
   ]
  },
  {
   "cell_type": "code",
   "execution_count": 0,
   "metadata": {
    "application/vnd.databricks.v1+cell": {
     "cellMetadata": {
      "byteLimit": 2048000,
      "rowLimit": 10000
     },
     "inputWidgets": {},
     "nuid": "f6384e9f-2dbf-4fff-98d2-1e6ce5993c8d",
     "showTitle": false,
     "title": ""
    }
   },
   "outputs": [],
   "source": [
    "lr = LinearRegression(featuresCol=\"features\", labelCol=\"WAREHOUSE SALES\")\n",
    "lr_model = lr.fit(sales_features)"
   ]
  },
  {
   "cell_type": "markdown",
   "metadata": {
    "application/vnd.databricks.v1+cell": {
     "cellMetadata": {},
     "inputWidgets": {},
     "nuid": "0e662d84-4e02-429e-8809-d9cec3120e5b",
     "showTitle": false,
     "title": ""
    }
   },
   "source": [
    "Looking at the coefficients and the intercept of the trained model and summaries of the model's performance."
   ]
  },
  {
   "cell_type": "code",
   "execution_count": 0,
   "metadata": {
    "application/vnd.databricks.v1+cell": {
     "cellMetadata": {
      "byteLimit": 2048000,
      "rowLimit": 10000
     },
     "inputWidgets": {},
     "nuid": "ee1bcb4b-3b2c-4619-886c-f6e5b8a55020",
     "showTitle": false,
     "title": ""
    }
   },
   "outputs": [
    {
     "output_type": "stream",
     "name": "stdout",
     "output_type": "stream",
     "text": [
      "Coefficients: [1.0604673343325666,3.9557116427964916]\nIntercept: -2142.9784648593463\n"
     ]
    }
   ],
   "source": [
    "print(\"Coefficients: \" + str(lr_model.coefficients))\n",
    "print(\"Intercept: \" + str(lr_model.intercept))"
   ]
  },
  {
   "cell_type": "code",
   "execution_count": 0,
   "metadata": {
    "application/vnd.databricks.v1+cell": {
     "cellMetadata": {
      "byteLimit": 2048000,
      "rowLimit": 10000
     },
     "inputWidgets": {},
     "nuid": "d49deae6-6a39-499f-a131-4ceb60603dde",
     "showTitle": false,
     "title": ""
    }
   },
   "outputs": [
    {
     "output_type": "stream",
     "name": "stdout",
     "output_type": "stream",
     "text": [
      "RMSE: 217.788323\nr2: 0.240584\n"
     ]
    }
   ],
   "source": [
    "trainingSummary = lr_model.summary # summarizing the model over the training set and printing out some metrics\n",
    "print(\"RMSE: %f\" % trainingSummary.rootMeanSquaredError)\n",
    "print(\"r2: %f\" % trainingSummary.r2)"
   ]
  },
  {
   "cell_type": "markdown",
   "metadata": {
    "application/vnd.databricks.v1+cell": {
     "cellMetadata": {},
     "inputWidgets": {},
     "nuid": "bedecbe4-ffbb-4ff5-9221-1e40e19f56bd",
     "showTitle": false,
     "title": ""
    }
   },
   "source": [
    "Showing predictions"
   ]
  },
  {
   "cell_type": "code",
   "execution_count": 0,
   "metadata": {
    "application/vnd.databricks.v1+cell": {
     "cellMetadata": {
      "byteLimit": 2048000,
      "rowLimit": 10000
     },
     "inputWidgets": {},
     "nuid": "a08f4fe9-0beb-4971-b575-425f95ec80ee",
     "showTitle": false,
     "title": ""
    }
   },
   "outputs": [
    {
     "output_type": "stream",
     "name": "stdout",
     "output_type": "stream",
     "text": [
      "+-------------+---------------+-------------------+\n|     features|WAREHOUSE SALES|         prediction|\n+-------------+---------------+-------------------+\n| [2020.0,0.0]|            2.0|-0.8344495075616578|\n| [2020.0,0.0]|            4.0|-0.8344495075616578|\n| [2020.0,0.0]|            1.0|-0.8344495075616578|\n| [2020.0,0.0]|            1.0|-0.8344495075616578|\n|[2020.0,0.82]|            0.0|  2.409234039531384|\n|[2020.0,2.76]|            6.0| 10.083314626556785|\n|[2020.0,0.08]|            1.0|-0.5179925761381128|\n| [2020.0,0.0]|            2.0|-0.8344495075616578|\n|[2020.0,6.41]|            0.0|   24.5216621227637|\n|[2020.0,0.33]|            2.0| 0.4709353345610907|\n| [2020.0,1.7]|            0.0|  5.890260285192198|\n|[2020.0,1.02]|            0.0| 3.2003763680909287|\n|[2020.0,0.68]|            0.0| 1.8554344095400666|\n|[2020.0,0.34]|            0.0| 0.5104924509892044|\n| [2020.0,0.0]|            2.0|-0.8344495075616578|\n| [2020.0,0.0]|            1.0|-0.8344495075616578|\n|[2020.0,0.34]|            1.0| 0.5104924509892044|\n|[2020.0,0.16]|            2.0| -0.201535644714113|\n| [2020.0,0.0]|            1.0|-0.8344495075616578|\n| [2020.0,0.0]|            3.0|-0.8344495075616578|\n+-------------+---------------+-------------------+\nonly showing top 20 rows\n\n"
     ]
    }
   ],
   "source": [
    "predictions = lr_model.transform(sales_features)\n",
    "predictions.select(\"features\", \"WAREHOUSE SALES\", \"prediction\").show()"
   ]
  },
  {
   "cell_type": "markdown",
   "metadata": {
    "application/vnd.databricks.v1+cell": {
     "cellMetadata": {},
     "inputWidgets": {},
     "nuid": "1c1c2bc7-5ca6-409a-8270-5e52eba702fd",
     "showTitle": false,
     "title": ""
    }
   },
   "source": [
    "**Objective:** Showcase both real-time and batch processing capabilities to address different business needs."
   ]
  },
  {
   "cell_type": "markdown",
   "metadata": {
    "application/vnd.databricks.v1+cell": {
     "cellMetadata": {},
     "inputWidgets": {},
     "nuid": "266b23d8-0462-45ae-b979-50d4fd61f46c",
     "showTitle": false,
     "title": ""
    }
   },
   "source": [
    "Batch processing: Process large batch of sales data for monthly report"
   ]
  },
  {
   "cell_type": "markdown",
   "metadata": {
    "application/vnd.databricks.v1+cell": {
     "cellMetadata": {},
     "inputWidgets": {},
     "nuid": "defdb801-318f-4932-a5ea-1b7c6e4ad806",
     "showTitle": false,
     "title": ""
    }
   },
   "source": [
    "Retail sales is not a numeric column so making it to numeric"
   ]
  },
  {
   "cell_type": "code",
   "execution_count": 0,
   "metadata": {
    "application/vnd.databricks.v1+cell": {
     "cellMetadata": {
      "byteLimit": 2048000,
      "rowLimit": 10000
     },
     "inputWidgets": {},
     "nuid": "3d9dcc29-3649-47b1-9cae-5f63834e78ca",
     "showTitle": false,
     "title": ""
    }
   },
   "outputs": [
    {
     "output_type": "stream",
     "name": "stdout",
     "output_type": "stream",
     "text": [
      "+----+-----+--------------------+---------+--------------------+---------+------------+----------------+---------------+\n|YEAR|MONTH|            SUPPLIER|ITEM CODE|    ITEM DESCRIPTION|ITEM TYPE|RETAIL SALES|RETAIL TRANSFERS|WAREHOUSE SALES|\n+----+-----+--------------------+---------+--------------------+---------+------------+----------------+---------------+\n|2020|    1|REPUBLIC NATIONAL...|   100009| BOOTLEG RED - 750ML|     WINE|         0.0|            0.00|           2.00|\n|2020|    1|           PWSWN INC|   100024|MOMENT DE PLAISIR...|     WINE|         0.0|            1.00|           4.00|\n|2020|    1|RELIABLE CHURCHIL...|     1001|S SMITH ORGANIC P...|     BEER|         0.0|            0.00|           1.00|\n|2020|    1|LANTERNA DISTRIBU...|   100145|SCHLINK HAUS KABI...|     WINE|         0.0|            0.00|           1.00|\n|2020|    1|DIONYSOS IMPORTS INC|   100293|SANTORINI GAVALA ...|     WINE|        0.82|            0.00|           0.00|\n|2020|    1|KYSELA PERE ET FI...|   100641|CORTENOVA VENETO ...|     WINE|        2.76|            0.00|           6.00|\n|2020|    1|SANTA MARGHERITA ...|   100749|SANTA MARGHERITA ...|     WINE|        0.08|            1.00|           1.00|\n|2020|    1|BROWN-FORMAN BEVE...|     1008|JACK DANIELS COUN...|     BEER|         0.0|            0.00|           2.00|\n|2020|    1|  JIM BEAM BRANDS CO|    10103|KNOB CREEK BOURBO...|   LIQUOR|        6.41|            4.00|           0.00|\n|2020|    1|INTERNATIONAL CEL...|   101117|   KSARA CAB - 750ML|     WINE|        0.33|            1.00|           2.00|\n|2020|    1|HEAVEN HILL DISTI...|    10120|J W DANT BOURBON ...|   LIQUOR|         1.7|            1.00|           0.00|\n|2020|    1|BACCHUS IMPORTERS...|    10123|NOTEWORTHY SMALL ...|   LIQUOR|        1.02|            0.00|           0.00|\n|2020|    1|BACCHUS IMPORTERS...|    10124|NOTEWORTHY SMALL ...|   LIQUOR|        0.68|            0.00|           0.00|\n|2020|    1|BACCHUS IMPORTERS...|    10125|NOTEWORTHY SMALL ...|   LIQUOR|        0.34|            0.00|           0.00|\n|2020|    1|MONSIEUR TOUTON S...|   101346|ALSACE WILLIAM GE...|     WINE|         0.0|            0.00|           2.00|\n|2020|    1|THE COUNTRY VINTN...|   101486|POLIZIANO ROSSO M...|     WINE|         0.0|            0.00|           1.00|\n|2020|    1|THE COUNTRY VINTN...|   101532|HATSUMAGO SAKE JU...|     WINE|        0.34|            1.00|           1.00|\n|2020|    1|     ROYAL WINE CORP|   101664|RAMON CORDOVA RIO...|     WINE|        0.16|            0.00|           2.00|\n|2020|    1|REPUBLIC NATIONAL...|   101702|MANISCHEWITZ CREA...|     WINE|         0.0|            0.00|           1.00|\n|2020|    1|     ROYAL WINE CORP|   101753|BARKAN CLASSIC PE...|     WINE|         0.0|            0.00|           3.00|\n+----+-----+--------------------+---------+--------------------+---------+------------+----------------+---------------+\nonly showing top 20 rows\n\n"
     ]
    }
   ],
   "source": [
    "from pyspark.sql.functions import col\n",
    "sales_df = sales_df.withColumn(\"RETAIL SALES\", col(\"RETAIL SALES\").cast(\"float\"))\n",
    "sales_df.show()"
   ]
  },
  {
   "cell_type": "code",
   "execution_count": 0,
   "metadata": {
    "application/vnd.databricks.v1+cell": {
     "cellMetadata": {
      "byteLimit": 2048000,
      "rowLimit": 10000
     },
     "inputWidgets": {},
     "nuid": "e6987928-1e96-4482-856a-b83e227a335a",
     "showTitle": false,
     "title": ""
    }
   },
   "outputs": [
    {
     "output_type": "stream",
     "name": "stdout",
     "output_type": "stream",
     "text": [
      "+-----+--------------------+------------------+\n|MONTH|           ITEM TYPE| sum(RETAIL SALES)|\n+-----+--------------------+------------------+\n|    9|                KEGS|               0.0|\n|    6|        STR_SUPPLIES| 225.7499957755208|\n|    7|        STR_SUPPLIES| 271.5499989837408|\n|    9|        STR_SUPPLIES|298.41999676823616|\n|    7| DOMAINE PIRON - ...|              null|\n|    3|                 REF| 42.02999994158745|\n|    6|                KEGS|               0.0|\n|    1|        STR_SUPPLIES|300.32000321149826|\n|    6|                 REF| 55.22999906539917|\n|    3|              LIQUOR| 72798.43002120964|\n|    3|                KEGS|               0.0|\n|    6|             DUNNAGE|               0.0|\n|    7|             DUNNAGE|               0.0|\n|    1|                WINE| 83628.99995342083|\n|    3|                BEER| 51115.74006219581|\n|    3|                WINE| 66526.01994728297|\n|    6|                WINE|61210.149976285174|\n|    9|              LIQUOR|  95013.8101217039|\n|    1|                BEER| 51965.12001276761|\n|    7|                KEGS|               0.0|\n+-----+--------------------+------------------+\nonly showing top 20 rows\n\n"
     ]
    }
   ],
   "source": [
    "monthly_sales_report = sales_df.groupBy(\"MONTH\", \"ITEM TYPE\").sum(\"RETAIL SALES\") #and now grouping\n",
    "monthly_sales_report.show()"
   ]
  },
  {
   "cell_type": "markdown",
   "metadata": {
    "application/vnd.databricks.v1+cell": {
     "cellMetadata": {},
     "inputWidgets": {},
     "nuid": "bbbd5302-ed9d-4555-bca1-d4cd25fc982a",
     "showTitle": false,
     "title": ""
    }
   },
   "source": [
    "Real-time processing simulation: Update dashboard as new sales data arrives. \n",
    "Unfortunately,we weren't able to find real time data so we had to leave it blank"
   ]
  },
  {
   "cell_type": "markdown",
   "metadata": {
    "application/vnd.databricks.v1+cell": {
     "cellMetadata": {},
     "inputWidgets": {},
     "nuid": "9651858e-3fa4-45d9-b317-8d71c8d5a1dc",
     "showTitle": false,
     "title": ""
    }
   },
   "source": [
    "**Objective:** Explain how Data Lakehouse manages data governance and metadata to ensure data quality and accessibility."
   ]
  },
  {
   "cell_type": "markdown",
   "metadata": {
    "application/vnd.databricks.v1+cell": {
     "cellMetadata": {},
     "inputWidgets": {},
     "nuid": "2d0ebc2a-48aa-4e68-b28e-cd01de1ca4fe",
     "showTitle": false,
     "title": ""
    }
   },
   "source": [
    "Metadata management example: Describing and cataloging data"
   ]
  },
  {
   "cell_type": "code",
   "execution_count": 0,
   "metadata": {
    "application/vnd.databricks.v1+cell": {
     "cellMetadata": {
      "byteLimit": 2048000,
      "rowLimit": 10000
     },
     "inputWidgets": {},
     "nuid": "d372bc4f-ce57-4a6c-9fac-04e8a317ea6a",
     "showTitle": false,
     "title": ""
    }
   },
   "outputs": [
    {
     "output_type": "stream",
     "name": "stdout",
     "output_type": "stream",
     "text": [
      "+-------+------------------+------------------+----------+------------------+--------------------+--------------------+------------------+------------------+------------------+\n|summary|              YEAR|             MONTH|  SUPPLIER|         ITEM CODE|    ITEM DESCRIPTION|           ITEM TYPE|      RETAIL SALES|  RETAIL TRANSFERS|   WAREHOUSE SALES|\n+-------+------------------+------------------+----------+------------------+--------------------+--------------------+------------------+------------------+------------------+\n|  count|            307645|            307645|    307478|            307645|              307645|              307644|            307639|            307645|            307645|\n|   mean|2018.4385249232068| 6.423861918770011|      null|164114.39978087787|                null|                null| 7.024139885735243| 6.936464528921333|25.294587202782424|\n| stddev|1.0830605350766584|3.4618121637228216|      null| 136114.8104939607|                null|                null|30.986381207458262|30.237195466874528|249.91679928163651|\n|    min|              2017|                 1|8 VINI INC|            100002|      ! EA ! - 750ML| DOMAINE PIRON - ...|             -6.49|             -0.01|             -0.00|\n|    max|              2020|                 9|ZURENA LLC|                WC|ZYWIEC PORTER 5/4...|                WINE|            2739.0|            991.00|            999.80|\n+-------+------------------+------------------+----------+------------------+--------------------+--------------------+------------------+------------------+------------------+\n\n"
     ]
    }
   ],
   "source": [
    "sales_df.describe().show() # cataloging structured data"
   ]
  },
  {
   "cell_type": "code",
   "execution_count": 0,
   "metadata": {
    "application/vnd.databricks.v1+cell": {
     "cellMetadata": {
      "byteLimit": 2048000,
      "rowLimit": 10000
     },
     "inputWidgets": {},
     "nuid": "e39b9976-befb-4c8a-a54f-cf765fcb7561",
     "showTitle": false,
     "title": ""
    }
   },
   "outputs": [
    {
     "output_type": "stream",
     "name": "stdout",
     "output_type": "stream",
     "text": [
      "+-------+-------------+-----------+--------------------+--------------------+-------+-----------------+------+\n|summary|      company|    country|          created_at|               email|  first|               id|  last|\n+-------+-------------+-----------+--------------------+--------------------+-------+-----------------+------+\n|  count|         9999|       9999|                9999|                9999|   9999|             9999|  9999|\n|   mean|         null|       null|                null|                null|   null|           5000.0|  null|\n| stddev|         null|       null|                null|                null|   null|2886.607004772212|  null|\n|    min| Abbott Group|Afghanistan|2014-04-01T15:09:...|aaliyah.batz@yaho...|Abagail|                1|Abbott|\n|    max|Zulauf-Wisozk|   Zimbabwe|2015-04-01T13:44:...|zula_sauer44@hotm...|   Zula|             9999|Zulauf|\n+-------+-------------+-----------+--------------------+--------------------+-------+-----------------+------+\n\n"
     ]
    }
   ],
   "source": [
    "customers_df.describe().show() # cataloging the unstructured data"
   ]
  },
  {
   "cell_type": "markdown",
   "metadata": {
    "application/vnd.databricks.v1+cell": {
     "cellMetadata": {},
     "inputWidgets": {},
     "nuid": "95715484-e4a6-4623-8314-8471120150f9",
     "showTitle": false,
     "title": ""
    }
   },
   "source": [
    "Demonstrating data governance by enforcing data quality rules"
   ]
  },
  {
   "cell_type": "code",
   "execution_count": 0,
   "metadata": {
    "application/vnd.databricks.v1+cell": {
     "cellMetadata": {
      "byteLimit": 2048000,
      "rowLimit": 10000
     },
     "inputWidgets": {},
     "nuid": "36489a80-4715-446e-aeab-f4a7f9b86fbd",
     "showTitle": false,
     "title": ""
    }
   },
   "outputs": [
    {
     "output_type": "stream",
     "name": "stdout",
     "output_type": "stream",
     "text": [
      "+----+-----+--------------------+---------+--------------------+------------+------------+----------------+---------------+\n|YEAR|MONTH|            SUPPLIER|ITEM CODE|    ITEM DESCRIPTION|   ITEM TYPE|RETAIL SALES|RETAIL TRANSFERS|WAREHOUSE SALES|\n+----+-----+--------------------+---------+--------------------+------------+------------+----------------+---------------+\n|2020|    1|DIONYSOS IMPORTS INC|   100293|SANTORINI GAVALA ...|        WINE|        0.82|            0.00|           0.00|\n|2020|    1|KYSELA PERE ET FI...|   100641|CORTENOVA VENETO ...|        WINE|        2.76|            0.00|           6.00|\n|2020|    1|SANTA MARGHERITA ...|   100749|SANTA MARGHERITA ...|        WINE|        0.08|            1.00|           1.00|\n|2020|    1|  JIM BEAM BRANDS CO|    10103|KNOB CREEK BOURBO...|      LIQUOR|        6.41|            4.00|           0.00|\n|2020|    1|INTERNATIONAL CEL...|   101117|   KSARA CAB - 750ML|        WINE|        0.33|            1.00|           2.00|\n|2020|    1|HEAVEN HILL DISTI...|    10120|J W DANT BOURBON ...|      LIQUOR|         1.7|            1.00|           0.00|\n|2020|    1|BACCHUS IMPORTERS...|    10123|NOTEWORTHY SMALL ...|      LIQUOR|        1.02|            0.00|           0.00|\n|2020|    1|BACCHUS IMPORTERS...|    10124|NOTEWORTHY SMALL ...|      LIQUOR|        0.68|            0.00|           0.00|\n|2020|    1|BACCHUS IMPORTERS...|    10125|NOTEWORTHY SMALL ...|      LIQUOR|        0.34|            0.00|           0.00|\n|2020|    1|THE COUNTRY VINTN...|   101532|HATSUMAGO SAKE JU...|        WINE|        0.34|            1.00|           1.00|\n|2020|    1|     ROYAL WINE CORP|   101664|RAMON CORDOVA RIO...|        WINE|        0.16|            0.00|           2.00|\n|2020|    1|  JIM BEAM BRANDS CO|    10197|KNOB CREEK BOURBO...|      LIQUOR|       12.72|           11.84|           0.00|\n|2020|    1|STE MICHELLE WINE...|   101974|CH ST MICH P/GRIS...|        WINE|       11.17|           11.00|           9.00|\n|2020|    1|             Default|      102|TWO BOTTLE WINE TOTE|STR_SUPPLIES|         0.1|            0.00|           0.00|\n|2020|    1|          SAZERAC CO|   102032|   FUKI SAKE - 750ML|        WINE|        1.25|            0.00|           1.00|\n|2020|    1|MONSIEUR TOUTON S...|   102083|CH DE LA CHESNAIE...|        WINE|        0.32|            0.00|           0.00|\n|2020|    1|  JIM BEAM BRANDS CO|    10243|OLD GRAND DAD BOU...|      LIQUOR|        1.21|            1.00|           0.00|\n|2020|    1| SALVETO IMPORTS LLC|    10245|CRICOVA ORIGINAL ...|        WINE|        1.91|            4.00|         147.00|\n|2020|    1|THE COUNTRY VINTN...|    10246|HILLROCK DOUBLE C...|      LIQUOR|        0.51|            0.00|           0.00|\n|2020|    1|RELIABLE CHURCHIL...|    10269| FEW BOURBON - 750ML|      LIQUOR|        0.85|            0.00|           0.00|\n+----+-----+--------------------+---------+--------------------+------------+------------+----------------+---------------+\nonly showing top 20 rows\n\n"
     ]
    }
   ],
   "source": [
    "clean_sales_df = sales_df.filter(col(\"RETAIL SALES\") > 0.0) # example: ensuring all sales are positive numbers\n",
    "clean_sales_df.show()"
   ]
  }
 ],
 "metadata": {
  "application/vnd.databricks.v1+notebook": {
   "dashboards": [],
   "language": "python",
   "notebookMetadata": {
    "pythonIndentUnit": 4
   },
   "notebookName": "Sales retail Data Lakehouse 2024-04-25 12:05:19",
   "widgets": {}
  }
 },
 "nbformat": 4,
 "nbformat_minor": 0
}
